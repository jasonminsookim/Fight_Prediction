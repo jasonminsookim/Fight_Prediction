{
 "cells": [
  {
   "cell_type": "markdown",
   "metadata": {},
   "source": [
    "# __Scrape Historical Fight Data__"
   ]
  },
  {
   "cell_type": "markdown",
   "metadata": {},
   "source": [
    "### Import Libraries"
   ]
  },
  {
   "cell_type": "code",
   "execution_count": 1,
   "metadata": {
    "ExecuteTime": {
     "end_time": "2019-02-21T04:27:50.602066Z",
     "start_time": "2019-02-21T04:27:47.351977Z"
    }
   },
   "outputs": [],
   "source": [
    "import requests\n",
    "import pandas as pd\n",
    "import string\n",
    "import IPython\n",
    "import time\n",
    "from bs4 import BeautifulSoup\n",
    "from pandas.plotting import scatter_matrix\n",
    "import os \n",
    "import re\n",
    "from dateutil import parser\n",
    "import datetime\n",
    "import random\n",
    "\n",
    "%matplotlib inline"
   ]
  },
  {
   "cell_type": "markdown",
   "metadata": {},
   "source": [
    "### Get links for each UFC event"
   ]
  },
  {
   "cell_type": "code",
   "execution_count": 2,
   "metadata": {
    "ExecuteTime": {
     "end_time": "2019-02-21T04:27:53.637310Z",
     "start_time": "2019-02-21T04:27:50.605899Z"
    }
   },
   "outputs": [],
   "source": [
    "all_events_url = \"http://ufcstats.com/statistics/events/completed?page=all\"\n",
    "all_events_page = requests.get(all_events_url)\n",
    "all_events_soup = BeautifulSoup(all_events_page.content, 'html.parser')"
   ]
  },
  {
   "cell_type": "code",
   "execution_count": 3,
   "metadata": {
    "ExecuteTime": {
     "end_time": "2019-02-21T04:27:53.848643Z",
     "start_time": "2019-02-21T04:27:53.773701Z"
    }
   },
   "outputs": [
    {
     "data": {
      "text/plain": [
       "<a class=\"b-link b-link_style_white\" href=\"http://ufcstats.com/event-details/6546af7ab545b90c\">\n",
       "                          UFC Fight Night: Blachowicz vs. Santos\n",
       "                        </a>"
      ]
     },
     "execution_count": 3,
     "metadata": {},
     "output_type": "execute_result"
    }
   ],
   "source": [
    "table = all_events_soup.find('table')\n",
    "events = table.findAll('a')\n",
    "# Pop the first link because it is for the next UFC event\n",
    "events.pop(0,)"
   ]
  },
  {
   "cell_type": "markdown",
   "metadata": {},
   "source": [
    "### Create Dictionary for Statistics"
   ]
  },
  {
   "cell_type": "code",
   "execution_count": 4,
   "metadata": {
    "ExecuteTime": {
     "end_time": "2019-02-21T04:27:53.896362Z",
     "start_time": "2019-02-21T04:27:53.853446Z"
    },
    "scrolled": true
   },
   "outputs": [
    {
     "name": "stdout",
     "output_type": "stream",
     "text": [
      "CPU times: user 264 µs, sys: 2 µs, total: 266 µs\n",
      "Wall time: 281 µs\n"
     ]
    }
   ],
   "source": [
    "%%time\n",
    "d = {}\n",
    "# Make a for loop with dictionary to get a bunch of these thigngs. \n",
    "# Create empty lists for fighters and winner\n",
    "d['fighters_1'] = []\n",
    "d['fighters_2'] = []\n",
    "d['end_rounds'] = []\n",
    "d['end_times'] = []\n",
    "d['winners'] = []\n",
    "\n",
    "# General information\n",
    "d['dates'] = []\n",
    "d['fight_urls'] = []\n",
    "\n",
    "# Debugging\n",
    "event_error_urls = []\n",
    "fight_error_urls = []\n",
    "\n",
    "num_rounds = 5\n",
    "cur_round = 1\n",
    "while(cur_round <= num_rounds):\n",
    "    fighter_index = 1\n",
    "    while fighter_index <= 2:\n",
    "        # General Fight Stats\n",
    "        d[\"f{0}_r{1}_kds\".format(fighter_index, cur_round)] = []\n",
    "        d[\"f{0}_r{1}_sigstrikes_l\".format(fighter_index, cur_round)] = []\n",
    "        d[\"f{0}_r{1}_sigstrikes_l\".format(fighter_index, cur_round)] = []\n",
    "        d[\"f{0}_r{1}_sigstrikes_a\".format(fighter_index, cur_round)] = []\n",
    "        d[\"f{0}_r{1}_strikes_l\".format(fighter_index, cur_round)] = []\n",
    "        d[\"f{0}_r{1}_strikes_a\".format(fighter_index, cur_round)] = []\n",
    "        d[\"f{0}_r{1}_tds_l\".format(fighter_index, cur_round)] = []\n",
    "        d[\"f{0}_r{1}_tds_a\".format(fighter_index, cur_round)] = []\n",
    "        d[\"f{0}_r{1}_subs_a\".format(fighter_index, cur_round)] = []\n",
    "        d[\"f{0}_r{1}_passes\".format(fighter_index, cur_round)] = []\n",
    "        d[\"f{0}_r{1}_revs\".format(fighter_index, cur_round)] = []\n",
    "        \n",
    "        # Stats Regarding Signficant Strikes Target and Distance\n",
    "        d[\"f{0}_r{1}_ss_head_l\".format(fighter_index, cur_round)] = []\n",
    "        d[\"f{0}_r{1}_ss_head_a\".format(fighter_index, cur_round)] = []\n",
    "        d[\"f{0}_r{1}_ss_body_l\".format(fighter_index, cur_round)] = []\n",
    "        d[\"f{0}_r{1}_ss_body_a\".format(fighter_index, cur_round)] = []\n",
    "        d[\"f{0}_r{1}_ss_leg_l\".format(fighter_index, cur_round)] = []\n",
    "        d[\"f{0}_r{1}_ss_leg_a\".format(fighter_index, cur_round)] = []\n",
    "        d[\"f{0}_r{1}_ss_dist_l\".format(fighter_index, cur_round)] = []\n",
    "        d[\"f{0}_r{1}_ss_dist_a\".format(fighter_index, cur_round)] = []\n",
    "        d[\"f{0}_r{1}_ss_clinch_l\".format(fighter_index, cur_round)] = []\n",
    "        d[\"f{0}_r{1}_ss_clinch_a\".format(fighter_index, cur_round)] = []\n",
    "        d[\"f{0}_r{1}_ss_ground_l\".format(fighter_index, cur_round)] = []\n",
    "        d[\"f{0}_r{1}_ss_ground_a\".format(fighter_index, cur_round)] = []\n",
    "        fighter_index += 1\n",
    "    cur_round += 1"
   ]
  },
  {
   "cell_type": "code",
   "execution_count": 5,
   "metadata": {
    "ExecuteTime": {
     "end_time": "2019-02-21T08:50:00.972465Z",
     "start_time": "2019-02-21T04:28:01.003365Z"
    }
   },
   "outputs": [
    {
     "name": "stdout",
     "output_type": "stream",
     "text": [
      "CPU times: user 8min 36s, sys: 15.7 s, total: 8min 52s\n",
      "Wall time: 4h 21min 59s\n"
     ]
    }
   ],
   "source": [
    "%%time\n",
    "page_count = 1\n",
    "num_errors = 0\n",
    "date_cutoff = datetime.datetime(1990,1,1,0,0) # Get all data and subset later\n",
    "\n",
    "for event in events:\n",
    "    try:\n",
    "        # Setup  url, page, and soup for EVENT\n",
    "        event_url = event['href']\n",
    "        time.sleep(random.uniform(0,.5))\n",
    "        event_page = requests.get(event_url)\n",
    "        event_soup = BeautifulSoup(event_page.content, 'html.parser')\n",
    "        \n",
    "        # Extract date\n",
    "        date_text = event_soup.find(\"li\",{\"class\":\"b-list__box-list-item\"}).text.strip().strip(\"Date:\").strip(\"\\n\").strip()\n",
    "        date = parser.parse(date_text)\n",
    "        \n",
    "        if date < date_cutoff:\n",
    "            break\n",
    "\n",
    "        # Parse table for statistics\n",
    "        table = event_soup.find('table')\n",
    "        rows = table.findAll('tr',onclick=True)\n",
    "        for row in rows:\n",
    "            # Setup FIGHT url, page, and soup for FIGHT\n",
    "            fight_url = row['onclick'][7:-2]\n",
    "            time.sleep(random.uniform(0,.5))\n",
    "            \n",
    "            try:\n",
    "                fight_page = requests.get(fight_url)\n",
    "                fight_soup = BeautifulSoup(fight_page.content, 'html.parser')\n",
    "\n",
    "                # Add fighters\n",
    "                section = fight_soup.findAll(\"div\",{\"class\":\"b-fight-details__person\"})\n",
    "\n",
    "                winner = ''\n",
    "                for i,fighter in enumerate(section,1):\n",
    "                    if i == 1:\n",
    "                        fighter_1 = ' '.join(fighter.text.replace('\\n','').strip().split()[1:])\n",
    "\n",
    "                    elif i == 2:\n",
    "                        fighter_2 = ' '.join(fighter.text.replace('\\n','').strip().split()[1:])\n",
    "\n",
    "                    # Add winner\n",
    "                    if(fighter.text.strip()[0] == \"W\"):\n",
    "                        winner = ' '.join(section[0].text.replace('\\n','').strip().split()[1:])\n",
    "\n",
    "                if winner == '':\n",
    "                    winner = 'No Winner'\n",
    "\n",
    "                # SCRAPE ROUND SPECIFIC STATS\n",
    "                stats_tables = fight_soup.findAll(\"table\",{\"class\",\"b-fight-details__table js-fight-table\"})\n",
    "                round_stats_table = stats_tables[0]\n",
    "                p_r_stats = round_stats_table.findAll('p',{'class':\"b-fight-details__table-text\"})\n",
    "\n",
    "                # Create Indices\n",
    "                stat_ind = 2\n",
    "                round_ind = 1\n",
    "\n",
    "                while(round_ind <= 5):\n",
    "                    fighter_ind = 1\n",
    "                    while fighter_ind <= 2:\n",
    "                        # Try except is used because many of the fights don't go full the distance\n",
    "                        try: \n",
    "                            # Scrape Knockdowns\n",
    "                            d['f{0}_r{1}_kds'.format(fighter_ind, round_ind)].append(p_r_stats[stat_ind].text.replace('\\n','').strip())\n",
    "                            stat_ind += 2\n",
    "                            # Scrape Significant Strikes\n",
    "                            d['f{0}_r{1}_sigstrikes_l'.format(fighter_ind, round_ind)].append(p_r_stats[stat_ind].text.replace('\\n','').strip().split()[0]) \n",
    "                            d['f{0}_r{1}_sigstrikes_a'.format(fighter_ind, round_ind)].append(p_r_stats[stat_ind].text.replace('\\n','').strip().split()[2]) \n",
    "                            # Scrape Strikes\n",
    "                            stat_ind += 4\n",
    "                            d['f{0}_r{1}_strikes_l'.format(fighter_ind, round_ind)].append(p_r_stats[stat_ind].text.replace('\\n','').strip().split()[0]) \n",
    "                            d['f{0}_r{1}_strikes_a'.format(fighter_ind, round_ind)].append(p_r_stats[stat_ind].text.replace('\\n','').strip().split()[2])\n",
    "                            # Scrape Takedowns\n",
    "                            stat_ind += 2\n",
    "                            d['f{0}_r{1}_tds_l'.format(fighter_ind, round_ind)].append(p_r_stats[stat_ind].text.replace('\\n','').strip().split()[0]) \n",
    "                            d['f{0}_r{1}_tds_a'.format(fighter_ind, round_ind)].append(p_r_stats[stat_ind].text.replace('\\n','').strip().split()[2])\n",
    "                            # Scrape Subs\n",
    "                            stat_ind += 4\n",
    "                            d['f{0}_r{1}_subs_a'.format(fighter_ind, round_ind)].append(p_r_stats[stat_ind].text.replace('\\n','').strip())\n",
    "                            # Scrape Pass\n",
    "                            stat_ind += 2\n",
    "                            d['f{0}_r{1}_passes'.format(fighter_ind, round_ind)].append(p_r_stats[stat_ind].text.replace('\\n','').strip())  \n",
    "                            # Scrape Rev.\n",
    "                            stat_ind += 2\n",
    "                            d['f{0}_r{1}_revs'.format(fighter_ind, round_ind)].append(p_r_stats[stat_ind].text.replace('\\n','').strip())\n",
    "                        except:\n",
    "                            d['f{0}_r{1}_kds'.format(fighter_ind, round_ind)].append(None)\n",
    "                            d['f{0}_r{1}_sigstrikes_l'.format(fighter_ind, round_ind)].append(None)\n",
    "                            d['f{0}_r{1}_sigstrikes_a'.format(fighter_ind, round_ind)].append(None)\n",
    "                            d['f{0}_r{1}_strikes_l'.format(fighter_ind, round_ind)].append(None)\n",
    "                            d['f{0}_r{1}_strikes_a'.format(fighter_ind, round_ind)].append(None)\n",
    "                            d['f{0}_r{1}_tds_l'.format(fighter_ind, round_ind)].append(None)\n",
    "                            d['f{0}_r{1}_tds_a'.format(fighter_ind, round_ind)].append(None)\n",
    "                            d['f{0}_r{1}_subs_a'.format(fighter_ind, round_ind)].append(None)\n",
    "                            d['f{0}_r{1}_passes'.format(fighter_ind, round_ind)].append(None)\n",
    "                            d['f{0}_r{1}_revs'.format(fighter_ind, round_ind)].append(None)  \n",
    "\n",
    "\n",
    "                        if fighter_ind == 1:             \n",
    "                            stat_ind = 3+20*(round_ind-1)\n",
    "                        elif fighter_ind == 2: \n",
    "                            stat_ind = 2+20*(round_ind -1)\n",
    "\n",
    "                        fighter_ind +=1\n",
    "\n",
    "                    round_ind += 1\n",
    "\n",
    "                # SCRAPE STYLE SPECIFIC STATS\n",
    "                round_ss_stats_table = stats_tables[1]\n",
    "                p_r_ss_stats = round_ss_stats_table.findAll('p',{'class':\"b-fight-details__table-text\"})\n",
    "\n",
    "                # Create Indices\n",
    "                stat_ind = 6\n",
    "                round_ind = 1\n",
    "\n",
    "                while(round_ind <= 5):\n",
    "                    fighter_ind = 1\n",
    "                    while fighter_ind <= 2:\n",
    "                        # Try except is used because many of the fights don't go full the distance\n",
    "                        try: \n",
    "                            # Scrape SigStrikes to Head\n",
    "                            d['f{0}_r{1}_ss_head_l'.format(fighter_ind, round_ind)].append(p_r_ss_stats[stat_ind].text.replace('\\n','').strip().split()[0])\n",
    "                            d['f{0}_r{1}_ss_head_a'.format(fighter_ind, round_ind)].append(p_r_ss_stats[stat_ind].text.replace('\\n','').strip().split()[2])    \n",
    "                            # Scrape SigStrikes to Body\n",
    "                            stat_ind +=2\n",
    "                            d['f{0}_r{1}_ss_body_l'.format(fighter_ind, round_ind)].append(p_r_ss_stats[stat_ind].text.replace('\\n','').strip().split()[0])\n",
    "                            d['f{0}_r{1}_ss_body_a'.format(fighter_ind, round_ind)].append(p_r_ss_stats[stat_ind].text.replace('\\n','').strip().split()[2])\n",
    "                            # Scrape SigStrikes to Leg\n",
    "                            stat_ind +=2\n",
    "                            d['f{0}_r{1}_ss_leg_l'.format(fighter_ind, round_ind)].append(p_r_ss_stats[stat_ind].text.replace('\\n','').strip().split()[0])\n",
    "                            d['f{0}_r{1}_ss_leg_a'.format(fighter_ind, round_ind)].append(p_r_ss_stats[stat_ind].text.replace('\\n','').strip().split()[2])\n",
    "                            # Scrape SigStrikes from Dist\n",
    "                            stat_ind +=2\n",
    "                            d['f{0}_r{1}_ss_dist_l'.format(fighter_ind, round_ind)].append(p_r_ss_stats[stat_ind].text.replace('\\n','').strip().split()[0])\n",
    "                            d['f{0}_r{1}_ss_dist_a'.format(fighter_ind, round_ind)].append(p_r_ss_stats[stat_ind].text.replace('\\n','').strip().split()[2])\n",
    "                            # Scrape SigStrikes from Clinch\n",
    "                            stat_ind +=2\n",
    "                            d['f{0}_r{1}_ss_clinch_l'.format(fighter_ind, round_ind)].append(p_r_ss_stats[stat_ind].text.replace('\\n','').strip().split()[0])\n",
    "                            d['f{0}_r{1}_ss_clinch_a'.format(fighter_ind, round_ind)].append(p_r_ss_stats[stat_ind].text.replace('\\n','').strip().split()[2])\n",
    "                            # Scrape SigStrikes from Ground\n",
    "                            stat_ind +=2\n",
    "                            d['f{0}_r{1}_ss_ground_l'.format(fighter_ind, round_ind)].append(p_r_ss_stats[stat_ind].text.replace('\\n','').strip().split()[0])\n",
    "                            d['f{0}_r{1}_ss_ground_a'.format(fighter_ind, round_ind)].append(p_r_ss_stats[stat_ind].text.replace('\\n','').strip().split()[2])\n",
    "\n",
    "                        except:\n",
    "                            d['f{0}_r{1}_ss_head_l'.format(fighter_ind, round_ind)].append(None)\n",
    "                            d['f{0}_r{1}_ss_head_a'.format(fighter_ind, round_ind)].append(None)\n",
    "                            d['f{0}_r{1}_ss_body_l'.format(fighter_ind, round_ind)].append(None)\n",
    "                            d['f{0}_r{1}_ss_body_a'.format(fighter_ind, round_ind)].append(None)\n",
    "                            d['f{0}_r{1}_ss_leg_l'.format(fighter_ind, round_ind)].append(None)\n",
    "                            d['f{0}_r{1}_ss_leg_a'.format(fighter_ind, round_ind)].append(None)\n",
    "                            d['f{0}_r{1}_ss_dist_l'.format(fighter_ind, round_ind)].append(None)\n",
    "                            d['f{0}_r{1}_ss_dist_a'.format(fighter_ind, round_ind)].append(None)\n",
    "                            d['f{0}_r{1}_ss_clinch_l'.format(fighter_ind, round_ind)].append(None)\n",
    "                            d['f{0}_r{1}_ss_clinch_a'.format(fighter_ind, round_ind)].append(None)\n",
    "                            d['f{0}_r{1}_ss_ground_l'.format(fighter_ind, round_ind)].append(None)\n",
    "                            d['f{0}_r{1}_ss_ground_a'.format(fighter_ind, round_ind)].append(None)  \n",
    "\n",
    "\n",
    "                        if fighter_ind == 1:             \n",
    "                            stat_ind = 6+18*(round_ind-1)\n",
    "                        elif fighter_ind == 2: \n",
    "                            stat_ind = 7+18*(round_ind -1)\n",
    "\n",
    "                        fighter_ind +=1\n",
    "\n",
    "                    round_ind += 1\n",
    "\n",
    "                # Append data to lists\n",
    "                d['fighters_1'].append(fighter_1)\n",
    "                d['fighters_2'].append(fighter_2)\n",
    "                d['winners'].append(winner)\n",
    "                d['fight_urls'].append(fight_url)\n",
    "                d['dates'].append(date)\n",
    "                \n",
    "                fight_details = fight_soup.find(\"p\",{\"class\":\"b-fight-details__text\"})\n",
    "                fight_details_i = fight_details.findAll(\"i\")\n",
    "                d['end_rounds'].append(fight_details_i[3].text.split()[1]) # end round\n",
    "                d['end_times'].append(fight_details_i[5].text.replace(\"\\n\",\"\").strip().split()[1]) # end time\n",
    "            except:\n",
    "                fight_error_urls.append(fight_url)\n",
    "                break\n",
    "                \n",
    "            try:\n",
    "                d_df = pd.DataFrame(d)\n",
    "            except:\n",
    "                print(fight_url)\n",
    "                break\n",
    "    except:\n",
    "        num_errors += 1\n",
    "        print(\"There are \" + str(num_errors) + \" errors\")\n",
    "        \n",
    "\n",
    "        \n",
    "    page_count +=1\n",
    "    \n"
   ]
  },
  {
   "cell_type": "code",
   "execution_count": 8,
   "metadata": {
    "ExecuteTime": {
     "end_time": "2019-02-20T23:49:41.894986Z",
     "start_time": "2019-02-20T23:49:41.887032Z"
    }
   },
   "outputs": [
    {
     "data": {
      "text/plain": [
       "['http://ufcstats.com/fight-details/94cecf4bd29793e1',\n",
       " 'http://ufcstats.com/fight-details/d6389fa434e86916',\n",
       " 'http://ufcstats.com/fight-details/b56d1822b9f9a35f',\n",
       " 'http://ufcstats.com/fight-details/c97d0a476c2e7cb5',\n",
       " 'http://ufcstats.com/fight-details/08bd9e03c187f66b',\n",
       " 'http://ufcstats.com/fight-details/c330107229012260',\n",
       " 'http://ufcstats.com/fight-details/8d2f3e0abb22689f',\n",
       " 'http://ufcstats.com/fight-details/cf04a408cedb37ff',\n",
       " 'http://ufcstats.com/fight-details/366de1daf05a2b62',\n",
       " 'http://ufcstats.com/fight-details/77862f580ce9bca8',\n",
       " 'http://ufcstats.com/fight-details/3d1a835c15fd8cb2',\n",
       " 'http://ufcstats.com/fight-details/81ec228bf7af0fc1',\n",
       " 'http://ufcstats.com/fight-details/077667e3aaf314db',\n",
       " 'http://ufcstats.com/fight-details/f06030bf27ebe337']"
      ]
     },
     "execution_count": 8,
     "metadata": {},
     "output_type": "execute_result"
    }
   ],
   "source": [
    "fight_error_urls"
   ]
  },
  {
   "cell_type": "code",
   "execution_count": 6,
   "metadata": {
    "ExecuteTime": {
     "end_time": "2019-02-21T08:50:01.104888Z",
     "start_time": "2019-02-21T08:50:00.975552Z"
    }
   },
   "outputs": [],
   "source": [
    "all_stats_df = pd.DataFrame(d)"
   ]
  },
  {
   "cell_type": "code",
   "execution_count": 7,
   "metadata": {
    "ExecuteTime": {
     "end_time": "2019-02-21T08:50:01.381599Z",
     "start_time": "2019-02-21T08:50:01.109602Z"
    }
   },
   "outputs": [],
   "source": [
    "# save as csv\n",
    "all_stats_df.to_csv(\"../data/full_stats_v4.csv\")"
   ]
  },
  {
   "cell_type": "markdown",
   "metadata": {},
   "source": [
    "## Testing for Event Page"
   ]
  },
  {
   "cell_type": "code",
   "execution_count": 3,
   "metadata": {
    "ExecuteTime": {
     "end_time": "2019-02-06T01:51:47.591789Z",
     "start_time": "2019-02-06T01:51:46.769579Z"
    }
   },
   "outputs": [],
   "source": [
    "te_url = 'http://ufcstats.com/event-details/84283233ec42be5f'\n",
    "te_page = requests.get(te_url)\n",
    "te_soup = BeautifulSoup(te_page.content, 'html.parser')\n",
    "\n",
    "text = te_soup.find(\"li\",{\"class\":\"b-list__box-list-item\"}).text.strip().strip(\"Date:\").strip(\"\\n\").strip()"
   ]
  },
  {
   "cell_type": "code",
   "execution_count": 78,
   "metadata": {
    "ExecuteTime": {
     "end_time": "2019-02-04T00:31:37.480323Z",
     "start_time": "2019-02-04T00:31:37.472733Z"
    }
   },
   "outputs": [
    {
     "data": {
      "text/plain": [
       "'February 02, 2019'"
      ]
     },
     "execution_count": 78,
     "metadata": {},
     "output_type": "execute_result"
    }
   ],
   "source": [
    "text"
   ]
  },
  {
   "cell_type": "code",
   "execution_count": 79,
   "metadata": {
    "ExecuteTime": {
     "end_time": "2019-02-04T00:31:39.482907Z",
     "start_time": "2019-02-04T00:31:39.473901Z"
    }
   },
   "outputs": [
    {
     "data": {
      "text/plain": [
       "datetime.datetime(2019, 2, 2, 0, 0)"
      ]
     },
     "execution_count": 79,
     "metadata": {},
     "output_type": "execute_result"
    }
   ],
   "source": [
    "parser.parse(text)"
   ]
  },
  {
   "cell_type": "markdown",
   "metadata": {},
   "source": [
    "### Testing for Fight Page"
   ]
  },
  {
   "cell_type": "code",
   "execution_count": 6,
   "metadata": {
    "ExecuteTime": {
     "end_time": "2019-02-20T03:25:01.628281Z",
     "start_time": "2019-02-20T03:24:58.793854Z"
    }
   },
   "outputs": [],
   "source": [
    "tf_url = 'http://ufcstats.com/fight-details/904e0e46392dff93'\n",
    "tf_page = requests.get(tf_url)\n",
    "tf_soup = BeautifulSoup(tf_page.content,'html.parser')"
   ]
  },
  {
   "cell_type": "code",
   "execution_count": 8,
   "metadata": {
    "ExecuteTime": {
     "end_time": "2019-02-20T03:25:21.123899Z",
     "start_time": "2019-02-20T03:25:21.118250Z"
    }
   },
   "outputs": [
    {
     "name": "stdout",
     "output_type": "stream",
     "text": [
      "Round:\n",
      "5:00\n"
     ]
    }
   ],
   "source": [
    "fight_details = tf_soup.find(\"p\",{\"class\":\"b-fight-details__text\"})\n",
    "fight_details_i = fight_details.findAll(\"i\")\n",
    "print(fight_details_i[3].text.split()[0]) # end round\n",
    "print(fight_details_i[5].text.replace(\"\\n\",\"\").strip().split()[1]) # end time"
   ]
  },
  {
   "cell_type": "code",
   "execution_count": null,
   "metadata": {},
   "outputs": [],
   "source": [
    "fight_details = fight_soup.find(\"p\",{\"class\":\"b-fight-details__text\"})\n",
    "fight_details_i = fight_details.findAll(\"i\")\n",
    "end_rounds.append(fight_details_i[3].text.split()[1]) # end round\n",
    "end_times.append(fight_details_i[5].text.replace(\"\\n\",\"\").strip().split()[1]) # end time"
   ]
  },
  {
   "cell_type": "code",
   "execution_count": 15,
   "metadata": {
    "ExecuteTime": {
     "end_time": "2019-02-07T01:30:29.609296Z",
     "start_time": "2019-02-07T01:30:29.599167Z"
    }
   },
   "outputs": [],
   "source": [
    "fs_table = tf_soup.findAll(\"table\",{\"class\",\"b-fight-details__table js-fight-table\"}) ## Start here\n",
    "table_0 = fs_table[0]"
   ]
  },
  {
   "cell_type": "code",
   "execution_count": 16,
   "metadata": {
    "ExecuteTime": {
     "end_time": "2019-02-07T01:30:33.636375Z",
     "start_time": "2019-02-07T01:30:33.629433Z"
    }
   },
   "outputs": [],
   "source": [
    "p_ele = table_0.findAll('p',{'class':\"b-fight-details__table-text\"})"
   ]
  },
  {
   "cell_type": "code",
   "execution_count": 17,
   "metadata": {
    "ExecuteTime": {
     "end_time": "2019-02-07T01:30:38.021233Z",
     "start_time": "2019-02-07T01:30:38.013891Z"
    }
   },
   "outputs": [
    {
     "name": "stdout",
     "output_type": "stream",
     "text": [
      "0\n",
      "2\n",
      "0\n"
     ]
    }
   ],
   "source": [
    "print(p_ele[14].text.replace('\\n','').strip()) # Sub attempt f1\n",
    "print(p_ele[16].text.replace('\\n','').strip()) # Pass attempt f1\n",
    "print(p_ele[18].text.replace('\\n','').strip()) # Reversal attempt f1"
   ]
  },
  {
   "cell_type": "code",
   "execution_count": 7,
   "metadata": {
    "ExecuteTime": {
     "end_time": "2019-02-12T18:16:33.961659Z",
     "start_time": "2019-02-12T18:16:33.064240Z"
    }
   },
   "outputs": [],
   "source": [
    "t_url = \"http://ufcstats.com/fight-details/4e8b2357fea211e9\"\n",
    "t_page = requests.get(t_url)\n",
    "t_soup = BeautifulSoup(t_page.content, 'html.parser')\n",
    "\n",
    "fight_details = t_soup.find(\"p\",{\"class\":\"b-fight-details__text\"})\n",
    "fight_details_i = fight_details.findAll(\"i\")"
   ]
  },
  {
   "cell_type": "code",
   "execution_count": 23,
   "metadata": {
    "ExecuteTime": {
     "end_time": "2019-02-12T18:19:09.213494Z",
     "start_time": "2019-02-12T18:19:09.207730Z"
    }
   },
   "outputs": [
    {
     "data": {
      "text/plain": [
       "'1'"
      ]
     },
     "execution_count": 23,
     "metadata": {},
     "output_type": "execute_result"
    }
   ],
   "source": [
    "fight_details_i[3].text.split()[1] # round"
   ]
  },
  {
   "cell_type": "code",
   "execution_count": 21,
   "metadata": {
    "ExecuteTime": {
     "end_time": "2019-02-12T18:19:00.443508Z",
     "start_time": "2019-02-12T18:19:00.437392Z"
    }
   },
   "outputs": [
    {
     "data": {
      "text/plain": [
       "'3:17'"
      ]
     },
     "execution_count": 21,
     "metadata": {},
     "output_type": "execute_result"
    }
   ],
   "source": [
    "fight_details_i[5].text.replace(\"\\n\",\"\").strip().split()[1] # time"
   ]
  }
 ],
 "metadata": {
  "kernelspec": {
   "display_name": "Python [conda env:fight_prediction]",
   "language": "python",
   "name": "conda-env-fight_prediction-py"
  },
  "language_info": {
   "codemirror_mode": {
    "name": "ipython",
    "version": 3
   },
   "file_extension": ".py",
   "mimetype": "text/x-python",
   "name": "python",
   "nbconvert_exporter": "python",
   "pygments_lexer": "ipython3",
   "version": "3.6.6"
  },
  "varInspector": {
   "cols": {
    "lenName": 16,
    "lenType": 16,
    "lenVar": 40
   },
   "kernels_config": {
    "python": {
     "delete_cmd_postfix": "",
     "delete_cmd_prefix": "del ",
     "library": "var_list.py",
     "varRefreshCmd": "print(var_dic_list())"
    },
    "r": {
     "delete_cmd_postfix": ") ",
     "delete_cmd_prefix": "rm(",
     "library": "var_list.r",
     "varRefreshCmd": "cat(var_dic_list()) "
    }
   },
   "types_to_exclude": [
    "module",
    "function",
    "builtin_function_or_method",
    "instance",
    "_Feature"
   ],
   "window_display": false
  }
 },
 "nbformat": 4,
 "nbformat_minor": 2
}
