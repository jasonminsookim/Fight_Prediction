{
 "cells": [
  {
   "cell_type": "markdown",
   "metadata": {},
   "source": [
    "# __Scrape Historical Fight Data__"
   ]
  },
  {
   "cell_type": "markdown",
   "metadata": {},
   "source": [
    "### Import Libraries"
   ]
  },
  {
   "cell_type": "code",
   "execution_count": 1,
   "metadata": {
    "ExecuteTime": {
     "end_time": "2019-02-21T19:22:51.158005Z",
     "start_time": "2019-02-21T19:22:49.721942Z"
    }
   },
   "outputs": [],
   "source": [
    "import requests\n",
    "import pandas as pd\n",
    "import string\n",
    "import IPython\n",
    "import time\n",
    "from bs4 import BeautifulSoup\n",
    "from pandas.plotting import scatter_matrix\n",
    "import os \n",
    "import re\n",
    "from dateutil import parser\n",
    "import datetime\n",
    "import random\n",
    "\n",
    "%matplotlib inline"
   ]
  },
  {
   "cell_type": "markdown",
   "metadata": {},
   "source": [
    "### Get links for each UFC event"
   ]
  },
  {
   "cell_type": "code",
   "execution_count": 2,
   "metadata": {
    "ExecuteTime": {
     "end_time": "2019-02-21T19:22:54.187114Z",
     "start_time": "2019-02-21T19:22:51.980138Z"
    }
   },
   "outputs": [],
   "source": [
    "all_events_url = \"http://ufcstats.com/statistics/events/completed?page=all\"\n",
    "all_events_page = requests.get(all_events_url)\n",
    "all_events_soup = BeautifulSoup(all_events_page.content, 'html.parser')"
   ]
  },
  {
   "cell_type": "code",
   "execution_count": 3,
   "metadata": {
    "ExecuteTime": {
     "end_time": "2019-02-21T19:22:54.219846Z",
     "start_time": "2019-02-21T19:22:54.190135Z"
    }
   },
   "outputs": [
    {
     "data": {
      "text/plain": [
       "<a class=\"b-link b-link_style_white\" href=\"http://ufcstats.com/event-details/6546af7ab545b90c\">\n",
       "                          UFC Fight Night: Blachowicz vs. Santos\n",
       "                        </a>"
      ]
     },
     "execution_count": 3,
     "metadata": {},
     "output_type": "execute_result"
    }
   ],
   "source": [
    "table = all_events_soup.find('table')\n",
    "events = table.findAll('a')\n",
    "# Pop the first link because it is for the next UFC event\n",
    "events.pop(0,)"
   ]
  },
  {
   "cell_type": "markdown",
   "metadata": {},
   "source": [
    "### Create Dictionary for Statistics"
   ]
  },
  {
   "cell_type": "code",
   "execution_count": 4,
   "metadata": {
    "ExecuteTime": {
     "end_time": "2019-02-21T19:22:54.251480Z",
     "start_time": "2019-02-21T19:22:54.226038Z"
    },
    "scrolled": true
   },
   "outputs": [
    {
     "name": "stdout",
     "output_type": "stream",
     "text": [
      "CPU times: user 515 µs, sys: 141 µs, total: 656 µs\n",
      "Wall time: 732 µs\n"
     ]
    }
   ],
   "source": [
    "%%time\n",
    "d = {}\n",
    "# Make a for loop with dictionary to get a bunch of these thigngs. \n",
    "# Create empty lists for fighters and winner\n",
    "d['fighter_1'] = []\n",
    "d['fighter_2'] = []\n",
    "d['end_round'] = []\n",
    "d['end_time'] = []\n",
    "d['winner'] = []\n",
    "\n",
    "# General information\n",
    "d['date'] = []\n",
    "d['fight_url'] = []\n",
    "\n",
    "# Debugging\n",
    "event_error_urls = []\n",
    "fight_error_urls = []\n",
    "\n",
    "num_rounds = 5\n",
    "cur_round = 1\n",
    "while(cur_round <= num_rounds):\n",
    "    fighter_index = 1\n",
    "    while fighter_index <= 2:\n",
    "        # General Fight Stats\n",
    "        d[\"f{0}_r{1}_kds\".format(fighter_index, cur_round)] = []\n",
    "        d[\"f{0}_r{1}_sigstrikes_l\".format(fighter_index, cur_round)] = []\n",
    "        d[\"f{0}_r{1}_sigstrikes_l\".format(fighter_index, cur_round)] = []\n",
    "        d[\"f{0}_r{1}_sigstrikes_a\".format(fighter_index, cur_round)] = []\n",
    "        d[\"f{0}_r{1}_strikes_l\".format(fighter_index, cur_round)] = []\n",
    "        d[\"f{0}_r{1}_strikes_a\".format(fighter_index, cur_round)] = []\n",
    "        d[\"f{0}_r{1}_tds_l\".format(fighter_index, cur_round)] = []\n",
    "        d[\"f{0}_r{1}_tds_a\".format(fighter_index, cur_round)] = []\n",
    "        d[\"f{0}_r{1}_subs_a\".format(fighter_index, cur_round)] = []\n",
    "        d[\"f{0}_r{1}_passes\".format(fighter_index, cur_round)] = []\n",
    "        d[\"f{0}_r{1}_revs\".format(fighter_index, cur_round)] = []\n",
    "        \n",
    "        # Stats Regarding Signficant Strikes Target and Distance\n",
    "        d[\"f{0}_r{1}_ss_head_l\".format(fighter_index, cur_round)] = []\n",
    "        d[\"f{0}_r{1}_ss_head_a\".format(fighter_index, cur_round)] = []\n",
    "        d[\"f{0}_r{1}_ss_body_l\".format(fighter_index, cur_round)] = []\n",
    "        d[\"f{0}_r{1}_ss_body_a\".format(fighter_index, cur_round)] = []\n",
    "        d[\"f{0}_r{1}_ss_leg_l\".format(fighter_index, cur_round)] = []\n",
    "        d[\"f{0}_r{1}_ss_leg_a\".format(fighter_index, cur_round)] = []\n",
    "        d[\"f{0}_r{1}_ss_dist_l\".format(fighter_index, cur_round)] = []\n",
    "        d[\"f{0}_r{1}_ss_dist_a\".format(fighter_index, cur_round)] = []\n",
    "        d[\"f{0}_r{1}_ss_clinch_l\".format(fighter_index, cur_round)] = []\n",
    "        d[\"f{0}_r{1}_ss_clinch_a\".format(fighter_index, cur_round)] = []\n",
    "        d[\"f{0}_r{1}_ss_ground_l\".format(fighter_index, cur_round)] = []\n",
    "        d[\"f{0}_r{1}_ss_ground_a\".format(fighter_index, cur_round)] = []\n",
    "        fighter_index += 1\n",
    "    cur_round += 1"
   ]
  },
  {
   "cell_type": "code",
   "execution_count": 5,
   "metadata": {
    "ExecuteTime": {
     "end_time": "2019-02-22T00:08:02.870071Z",
     "start_time": "2019-02-21T19:22:54.255390Z"
    }
   },
   "outputs": [
    {
     "name": "stdout",
     "output_type": "stream",
     "text": [
      "CPU times: user 8min 48s, sys: 16.4 s, total: 9min 5s\n",
      "Wall time: 4h 45min 8s\n"
     ]
    }
   ],
   "source": [
    "%%time\n",
    "page_count = 1\n",
    "num_errors = 0\n",
    "date_cutoff = datetime.datetime(1990,1,1,0,0) # Get all data and subset later\n",
    "\n",
    "for event in events:\n",
    "    try:\n",
    "        # Setup  url, page, and soup for EVENT\n",
    "        event_url = event['href']\n",
    "        time.sleep(random.uniform(0,.5))\n",
    "        event_page = requests.get(event_url)\n",
    "        event_soup = BeautifulSoup(event_page.content, 'html.parser')\n",
    "        \n",
    "        # Extract date\n",
    "        date_text = event_soup.find(\"li\",{\"class\":\"b-list__box-list-item\"}).text.strip().strip(\"Date:\").strip(\"\\n\").strip()\n",
    "        date = parser.parse(date_text)\n",
    "        \n",
    "        if date < date_cutoff:\n",
    "            break\n",
    "\n",
    "        # Parse table for statistics\n",
    "        table = event_soup.find('table')\n",
    "        rows = table.findAll('tr',onclick=True)\n",
    "        for row in rows:\n",
    "            # Setup FIGHT url, page, and soup for FIGHT\n",
    "            fight_url = row['onclick'][7:-2]\n",
    "            time.sleep(random.uniform(0,.5))\n",
    "            \n",
    "            try:\n",
    "                fight_page = requests.get(fight_url)\n",
    "                fight_soup = BeautifulSoup(fight_page.content, 'html.parser')\n",
    "\n",
    "                # Add fighters\n",
    "                section = fight_soup.findAll(\"div\",{\"class\":\"b-fight-details__person\"})\n",
    "\n",
    "                winner = ''\n",
    "                for i,fighter in enumerate(section,1):\n",
    "                    if i == 1:\n",
    "                        fighter_1 = ' '.join(fighter.text.replace('\\n','').strip().split()[1:])\n",
    "\n",
    "                    elif i == 2:\n",
    "                        fighter_2 = ' '.join(fighter.text.replace('\\n','').strip().split()[1:])\n",
    "\n",
    "                    # Add winner\n",
    "                    if(fighter.text.strip()[0] == \"W\"):\n",
    "                        winner = ' '.join(section[0].text.replace('\\n','').strip().split()[1:])\n",
    "\n",
    "                if winner == '':\n",
    "                    winner = 'No Winner'\n",
    "\n",
    "                # SCRAPE ROUND SPECIFIC STATS\n",
    "                stats_tables = fight_soup.findAll(\"table\",{\"class\",\"b-fight-details__table js-fight-table\"})\n",
    "                round_stats_table = stats_tables[0]\n",
    "                p_r_stats = round_stats_table.findAll('p',{'class':\"b-fight-details__table-text\"})\n",
    "\n",
    "                # Create Indices\n",
    "                stat_ind = 2\n",
    "                round_ind = 1\n",
    "\n",
    "                while(round_ind <= 5):\n",
    "                    fighter_ind = 1\n",
    "                    while fighter_ind <= 2:\n",
    "                        # Try except is used because many of the fights don't go full the distance\n",
    "                        try: \n",
    "                            # Scrape Knockdowns\n",
    "                            d['f{0}_r{1}_kds'.format(fighter_ind, round_ind)].append(p_r_stats[stat_ind].text.replace('\\n','').strip())\n",
    "                            stat_ind += 2\n",
    "                            # Scrape Significant Strikes\n",
    "                            d['f{0}_r{1}_sigstrikes_l'.format(fighter_ind, round_ind)].append(p_r_stats[stat_ind].text.replace('\\n','').strip().split()[0]) \n",
    "                            d['f{0}_r{1}_sigstrikes_a'.format(fighter_ind, round_ind)].append(p_r_stats[stat_ind].text.replace('\\n','').strip().split()[2]) \n",
    "                            # Scrape Strikes\n",
    "                            stat_ind += 4\n",
    "                            d['f{0}_r{1}_strikes_l'.format(fighter_ind, round_ind)].append(p_r_stats[stat_ind].text.replace('\\n','').strip().split()[0]) \n",
    "                            d['f{0}_r{1}_strikes_a'.format(fighter_ind, round_ind)].append(p_r_stats[stat_ind].text.replace('\\n','').strip().split()[2])\n",
    "                            # Scrape Takedowns\n",
    "                            stat_ind += 2\n",
    "                            d['f{0}_r{1}_tds_l'.format(fighter_ind, round_ind)].append(p_r_stats[stat_ind].text.replace('\\n','').strip().split()[0]) \n",
    "                            d['f{0}_r{1}_tds_a'.format(fighter_ind, round_ind)].append(p_r_stats[stat_ind].text.replace('\\n','').strip().split()[2])\n",
    "                            # Scrape Subs\n",
    "                            stat_ind += 4\n",
    "                            d['f{0}_r{1}_subs_a'.format(fighter_ind, round_ind)].append(p_r_stats[stat_ind].text.replace('\\n','').strip())\n",
    "                            # Scrape Pass\n",
    "                            stat_ind += 2\n",
    "                            d['f{0}_r{1}_passes'.format(fighter_ind, round_ind)].append(p_r_stats[stat_ind].text.replace('\\n','').strip())  \n",
    "                            # Scrape Rev.\n",
    "                            stat_ind += 2\n",
    "                            d['f{0}_r{1}_revs'.format(fighter_ind, round_ind)].append(p_r_stats[stat_ind].text.replace('\\n','').strip())\n",
    "                        except:\n",
    "                            d['f{0}_r{1}_kds'.format(fighter_ind, round_ind)].append(None)\n",
    "                            d['f{0}_r{1}_sigstrikes_l'.format(fighter_ind, round_ind)].append(None)\n",
    "                            d['f{0}_r{1}_sigstrikes_a'.format(fighter_ind, round_ind)].append(None)\n",
    "                            d['f{0}_r{1}_strikes_l'.format(fighter_ind, round_ind)].append(None)\n",
    "                            d['f{0}_r{1}_strikes_a'.format(fighter_ind, round_ind)].append(None)\n",
    "                            d['f{0}_r{1}_tds_l'.format(fighter_ind, round_ind)].append(None)\n",
    "                            d['f{0}_r{1}_tds_a'.format(fighter_ind, round_ind)].append(None)\n",
    "                            d['f{0}_r{1}_subs_a'.format(fighter_ind, round_ind)].append(None)\n",
    "                            d['f{0}_r{1}_passes'.format(fighter_ind, round_ind)].append(None)\n",
    "                            d['f{0}_r{1}_revs'.format(fighter_ind, round_ind)].append(None)  \n",
    "\n",
    "\n",
    "                        if fighter_ind == 1:             \n",
    "                            stat_ind = 3+20*(round_ind-1)\n",
    "                        elif fighter_ind == 2: \n",
    "                            stat_ind = 2+20*(round_ind -1)\n",
    "\n",
    "                        fighter_ind +=1\n",
    "\n",
    "                    round_ind += 1\n",
    "\n",
    "                # SCRAPE STYLE SPECIFIC STATS\n",
    "                round_ss_stats_table = stats_tables[1]\n",
    "                p_r_ss_stats = round_ss_stats_table.findAll('p',{'class':\"b-fight-details__table-text\"})\n",
    "\n",
    "                # Create Indices\n",
    "                stat_ind = 6\n",
    "                round_ind = 1\n",
    "\n",
    "                while(round_ind <= 5):\n",
    "                    fighter_ind = 1\n",
    "                    while fighter_ind <= 2:\n",
    "                        # Try except is used because many of the fights don't go full the distance\n",
    "                        try: \n",
    "                            # Scrape SigStrikes to Head\n",
    "                            d['f{0}_r{1}_ss_head_l'.format(fighter_ind, round_ind)].append(p_r_ss_stats[stat_ind].text.replace('\\n','').strip().split()[0])\n",
    "                            d['f{0}_r{1}_ss_head_a'.format(fighter_ind, round_ind)].append(p_r_ss_stats[stat_ind].text.replace('\\n','').strip().split()[2])    \n",
    "                            # Scrape SigStrikes to Body\n",
    "                            stat_ind +=2\n",
    "                            d['f{0}_r{1}_ss_body_l'.format(fighter_ind, round_ind)].append(p_r_ss_stats[stat_ind].text.replace('\\n','').strip().split()[0])\n",
    "                            d['f{0}_r{1}_ss_body_a'.format(fighter_ind, round_ind)].append(p_r_ss_stats[stat_ind].text.replace('\\n','').strip().split()[2])\n",
    "                            # Scrape SigStrikes to Leg\n",
    "                            stat_ind +=2\n",
    "                            d['f{0}_r{1}_ss_leg_l'.format(fighter_ind, round_ind)].append(p_r_ss_stats[stat_ind].text.replace('\\n','').strip().split()[0])\n",
    "                            d['f{0}_r{1}_ss_leg_a'.format(fighter_ind, round_ind)].append(p_r_ss_stats[stat_ind].text.replace('\\n','').strip().split()[2])\n",
    "                            # Scrape SigStrikes from Dist\n",
    "                            stat_ind +=2\n",
    "                            d['f{0}_r{1}_ss_dist_l'.format(fighter_ind, round_ind)].append(p_r_ss_stats[stat_ind].text.replace('\\n','').strip().split()[0])\n",
    "                            d['f{0}_r{1}_ss_dist_a'.format(fighter_ind, round_ind)].append(p_r_ss_stats[stat_ind].text.replace('\\n','').strip().split()[2])\n",
    "                            # Scrape SigStrikes from Clinch\n",
    "                            stat_ind +=2\n",
    "                            d['f{0}_r{1}_ss_clinch_l'.format(fighter_ind, round_ind)].append(p_r_ss_stats[stat_ind].text.replace('\\n','').strip().split()[0])\n",
    "                            d['f{0}_r{1}_ss_clinch_a'.format(fighter_ind, round_ind)].append(p_r_ss_stats[stat_ind].text.replace('\\n','').strip().split()[2])\n",
    "                            # Scrape SigStrikes from Ground\n",
    "                            stat_ind +=2\n",
    "                            d['f{0}_r{1}_ss_ground_l'.format(fighter_ind, round_ind)].append(p_r_ss_stats[stat_ind].text.replace('\\n','').strip().split()[0])\n",
    "                            d['f{0}_r{1}_ss_ground_a'.format(fighter_ind, round_ind)].append(p_r_ss_stats[stat_ind].text.replace('\\n','').strip().split()[2])\n",
    "\n",
    "                        except:\n",
    "                            d['f{0}_r{1}_ss_head_l'.format(fighter_ind, round_ind)].append(None)\n",
    "                            d['f{0}_r{1}_ss_head_a'.format(fighter_ind, round_ind)].append(None)\n",
    "                            d['f{0}_r{1}_ss_body_l'.format(fighter_ind, round_ind)].append(None)\n",
    "                            d['f{0}_r{1}_ss_body_a'.format(fighter_ind, round_ind)].append(None)\n",
    "                            d['f{0}_r{1}_ss_leg_l'.format(fighter_ind, round_ind)].append(None)\n",
    "                            d['f{0}_r{1}_ss_leg_a'.format(fighter_ind, round_ind)].append(None)\n",
    "                            d['f{0}_r{1}_ss_dist_l'.format(fighter_ind, round_ind)].append(None)\n",
    "                            d['f{0}_r{1}_ss_dist_a'.format(fighter_ind, round_ind)].append(None)\n",
    "                            d['f{0}_r{1}_ss_clinch_l'.format(fighter_ind, round_ind)].append(None)\n",
    "                            d['f{0}_r{1}_ss_clinch_a'.format(fighter_ind, round_ind)].append(None)\n",
    "                            d['f{0}_r{1}_ss_ground_l'.format(fighter_ind, round_ind)].append(None)\n",
    "                            d['f{0}_r{1}_ss_ground_a'.format(fighter_ind, round_ind)].append(None)  \n",
    "\n",
    "\n",
    "                        if fighter_ind == 1:             \n",
    "                            stat_ind = 6+18*(round_ind-1)\n",
    "                        elif fighter_ind == 2: \n",
    "                            stat_ind = 7+18*(round_ind -1)\n",
    "\n",
    "                        fighter_ind +=1\n",
    "\n",
    "                    round_ind += 1\n",
    "\n",
    "                # Append data to lists\n",
    "                d['fighter_1'].append(fighter_1)\n",
    "                d['fighter_2'].append(fighter_2)\n",
    "                d['winner'].append(winner)\n",
    "                d['fight_url'].append(fight_url)\n",
    "                d['date'].append(date)\n",
    "                \n",
    "                fight_details = fight_soup.find(\"p\",{\"class\":\"b-fight-details__text\"})\n",
    "                fight_details_i = fight_details.findAll(\"i\")\n",
    "                d['end_round'].append(fight_details_i[3].text.split()[1]) # end round\n",
    "                d['end_time'].append(fight_details_i[5].text.replace(\"\\n\",\"\").strip().split()[1]) # end time\n",
    "            except:\n",
    "                fight_error_urls.append(fight_url)\n",
    "                break\n",
    "                \n",
    "            try:\n",
    "                d_df = pd.DataFrame(d)\n",
    "            except:\n",
    "                print(fight_url)\n",
    "                break\n",
    "    except:\n",
    "        num_errors += 1\n",
    "        print(\"There are \" + str(num_errors) + \" errors\")\n",
    "        \n",
    "\n",
    "        \n",
    "    page_count +=1\n",
    "    \n"
   ]
  },
  {
   "cell_type": "code",
   "execution_count": 6,
   "metadata": {
    "ExecuteTime": {
     "end_time": "2019-02-22T00:08:02.877530Z",
     "start_time": "2019-02-22T00:08:02.872437Z"
    }
   },
   "outputs": [
    {
     "data": {
      "text/plain": [
       "['http://ufcstats.com/fight-details/fae3f395669b7285',\n",
       " 'http://ufcstats.com/fight-details/692241119228cc82',\n",
       " 'http://ufcstats.com/fight-details/5a6861ca6d7fd021',\n",
       " 'http://ufcstats.com/fight-details/7cfc8649d07b704c',\n",
       " 'http://ufcstats.com/fight-details/9422b3caf780a995',\n",
       " 'http://ufcstats.com/fight-details/ebd51f898209c4c8',\n",
       " 'http://ufcstats.com/fight-details/7edac7a0a2f72f28',\n",
       " 'http://ufcstats.com/fight-details/1db8bed8b4d30fb3',\n",
       " 'http://ufcstats.com/fight-details/35b871e0bdc1415b',\n",
       " 'http://ufcstats.com/fight-details/8b258bbb37f74a66',\n",
       " 'http://ufcstats.com/fight-details/4bce0ce561a65288',\n",
       " 'http://ufcstats.com/fight-details/77bf1e37929b0d59',\n",
       " 'http://ufcstats.com/fight-details/2f449bd58b3d9a99',\n",
       " 'http://ufcstats.com/fight-details/3badedeb2c5533f4',\n",
       " 'http://ufcstats.com/fight-details/f59b1215176636f6',\n",
       " 'http://ufcstats.com/fight-details/5701dbbbfa4f8313',\n",
       " 'http://ufcstats.com/fight-details/7ffcc3a72e082ace',\n",
       " 'http://ufcstats.com/fight-details/e4fe950846b51bdf',\n",
       " 'http://ufcstats.com/fight-details/8e03db41687d9132',\n",
       " 'http://ufcstats.com/fight-details/fa152ada833de1d4',\n",
       " 'http://ufcstats.com/fight-details/b80e6a799c95d499']"
      ]
     },
     "execution_count": 6,
     "metadata": {},
     "output_type": "execute_result"
    }
   ],
   "source": [
    "fight_error_urls"
   ]
  },
  {
   "cell_type": "code",
   "execution_count": 7,
   "metadata": {
    "ExecuteTime": {
     "end_time": "2019-02-22T00:08:03.017150Z",
     "start_time": "2019-02-22T00:08:02.881491Z"
    }
   },
   "outputs": [],
   "source": [
    "all_stats_df = pd.DataFrame(d)"
   ]
  },
  {
   "cell_type": "code",
   "execution_count": 8,
   "metadata": {
    "ExecuteTime": {
     "end_time": "2019-02-22T00:08:03.279282Z",
     "start_time": "2019-02-22T00:08:03.019633Z"
    }
   },
   "outputs": [],
   "source": [
    "# save as csv\n",
    "all_stats_df.to_csv(\"../data/full_stats_v5.csv\")"
   ]
  },
  {
   "cell_type": "markdown",
   "metadata": {},
   "source": [
    "## Testing for Event Page"
   ]
  },
  {
   "cell_type": "code",
   "execution_count": 3,
   "metadata": {
    "ExecuteTime": {
     "end_time": "2019-02-06T01:51:47.591789Z",
     "start_time": "2019-02-06T01:51:46.769579Z"
    }
   },
   "outputs": [],
   "source": [
    "te_url = 'http://ufcstats.com/event-details/84283233ec42be5f'\n",
    "te_page = requests.get(te_url)\n",
    "te_soup = BeautifulSoup(te_page.content, 'html.parser')\n",
    "\n",
    "text = te_soup.find(\"li\",{\"class\":\"b-list__box-list-item\"}).text.strip().strip(\"Date:\").strip(\"\\n\").strip()"
   ]
  },
  {
   "cell_type": "code",
   "execution_count": 78,
   "metadata": {
    "ExecuteTime": {
     "end_time": "2019-02-04T00:31:37.480323Z",
     "start_time": "2019-02-04T00:31:37.472733Z"
    }
   },
   "outputs": [
    {
     "data": {
      "text/plain": [
       "'February 02, 2019'"
      ]
     },
     "execution_count": 78,
     "metadata": {},
     "output_type": "execute_result"
    }
   ],
   "source": [
    "text"
   ]
  },
  {
   "cell_type": "code",
   "execution_count": 79,
   "metadata": {
    "ExecuteTime": {
     "end_time": "2019-02-04T00:31:39.482907Z",
     "start_time": "2019-02-04T00:31:39.473901Z"
    }
   },
   "outputs": [
    {
     "data": {
      "text/plain": [
       "datetime.datetime(2019, 2, 2, 0, 0)"
      ]
     },
     "execution_count": 79,
     "metadata": {},
     "output_type": "execute_result"
    }
   ],
   "source": [
    "parser.parse(text)"
   ]
  },
  {
   "cell_type": "markdown",
   "metadata": {},
   "source": [
    "### Testing for Fight Page"
   ]
  },
  {
   "cell_type": "code",
   "execution_count": 6,
   "metadata": {
    "ExecuteTime": {
     "end_time": "2019-02-20T03:25:01.628281Z",
     "start_time": "2019-02-20T03:24:58.793854Z"
    }
   },
   "outputs": [],
   "source": [
    "tf_url = 'http://ufcstats.com/fight-details/904e0e46392dff93'\n",
    "tf_page = requests.get(tf_url)\n",
    "tf_soup = BeautifulSoup(tf_page.content,'html.parser')"
   ]
  },
  {
   "cell_type": "code",
   "execution_count": 8,
   "metadata": {
    "ExecuteTime": {
     "end_time": "2019-02-20T03:25:21.123899Z",
     "start_time": "2019-02-20T03:25:21.118250Z"
    }
   },
   "outputs": [
    {
     "name": "stdout",
     "output_type": "stream",
     "text": [
      "Round:\n",
      "5:00\n"
     ]
    }
   ],
   "source": [
    "fight_details = tf_soup.find(\"p\",{\"class\":\"b-fight-details__text\"})\n",
    "fight_details_i = fight_details.findAll(\"i\")\n",
    "print(fight_details_i[3].text.split()[0]) # end round\n",
    "print(fight_details_i[5].text.replace(\"\\n\",\"\").strip().split()[1]) # end time"
   ]
  },
  {
   "cell_type": "code",
   "execution_count": null,
   "metadata": {},
   "outputs": [],
   "source": [
    "fight_details = fight_soup.find(\"p\",{\"class\":\"b-fight-details__text\"})\n",
    "fight_details_i = fight_details.findAll(\"i\")\n",
    "end_rounds.append(fight_details_i[3].text.split()[1]) # end round\n",
    "end_times.append(fight_details_i[5].text.replace(\"\\n\",\"\").strip().split()[1]) # end time"
   ]
  },
  {
   "cell_type": "code",
   "execution_count": 15,
   "metadata": {
    "ExecuteTime": {
     "end_time": "2019-02-07T01:30:29.609296Z",
     "start_time": "2019-02-07T01:30:29.599167Z"
    }
   },
   "outputs": [],
   "source": [
    "fs_table = tf_soup.findAll(\"table\",{\"class\",\"b-fight-details__table js-fight-table\"}) ## Start here\n",
    "table_0 = fs_table[0]"
   ]
  },
  {
   "cell_type": "code",
   "execution_count": 16,
   "metadata": {
    "ExecuteTime": {
     "end_time": "2019-02-07T01:30:33.636375Z",
     "start_time": "2019-02-07T01:30:33.629433Z"
    }
   },
   "outputs": [],
   "source": [
    "p_ele = table_0.findAll('p',{'class':\"b-fight-details__table-text\"})"
   ]
  },
  {
   "cell_type": "code",
   "execution_count": 17,
   "metadata": {
    "ExecuteTime": {
     "end_time": "2019-02-07T01:30:38.021233Z",
     "start_time": "2019-02-07T01:30:38.013891Z"
    }
   },
   "outputs": [
    {
     "name": "stdout",
     "output_type": "stream",
     "text": [
      "0\n",
      "2\n",
      "0\n"
     ]
    }
   ],
   "source": [
    "print(p_ele[14].text.replace('\\n','').strip()) # Sub attempt f1\n",
    "print(p_ele[16].text.replace('\\n','').strip()) # Pass attempt f1\n",
    "print(p_ele[18].text.replace('\\n','').strip()) # Reversal attempt f1"
   ]
  },
  {
   "cell_type": "code",
   "execution_count": 7,
   "metadata": {
    "ExecuteTime": {
     "end_time": "2019-02-12T18:16:33.961659Z",
     "start_time": "2019-02-12T18:16:33.064240Z"
    }
   },
   "outputs": [],
   "source": [
    "t_url = \"http://ufcstats.com/fight-details/4e8b2357fea211e9\"\n",
    "t_page = requests.get(t_url)\n",
    "t_soup = BeautifulSoup(t_page.content, 'html.parser')\n",
    "\n",
    "fight_details = t_soup.find(\"p\",{\"class\":\"b-fight-details__text\"})\n",
    "fight_details_i = fight_details.findAll(\"i\")"
   ]
  },
  {
   "cell_type": "code",
   "execution_count": 23,
   "metadata": {
    "ExecuteTime": {
     "end_time": "2019-02-12T18:19:09.213494Z",
     "start_time": "2019-02-12T18:19:09.207730Z"
    }
   },
   "outputs": [
    {
     "data": {
      "text/plain": [
       "'1'"
      ]
     },
     "execution_count": 23,
     "metadata": {},
     "output_type": "execute_result"
    }
   ],
   "source": [
    "fight_details_i[3].text.split()[1] # round"
   ]
  },
  {
   "cell_type": "code",
   "execution_count": 21,
   "metadata": {
    "ExecuteTime": {
     "end_time": "2019-02-12T18:19:00.443508Z",
     "start_time": "2019-02-12T18:19:00.437392Z"
    }
   },
   "outputs": [
    {
     "data": {
      "text/plain": [
       "'3:17'"
      ]
     },
     "execution_count": 21,
     "metadata": {},
     "output_type": "execute_result"
    }
   ],
   "source": [
    "fight_details_i[5].text.replace(\"\\n\",\"\").strip().split()[1] # time"
   ]
  }
 ],
 "metadata": {
  "kernelspec": {
   "display_name": "Python [conda env:fight_prediction]",
   "language": "python",
   "name": "conda-env-fight_prediction-py"
  },
  "language_info": {
   "codemirror_mode": {
    "name": "ipython",
    "version": 3
   },
   "file_extension": ".py",
   "mimetype": "text/x-python",
   "name": "python",
   "nbconvert_exporter": "python",
   "pygments_lexer": "ipython3",
   "version": "3.6.6"
  },
  "varInspector": {
   "cols": {
    "lenName": 16,
    "lenType": 16,
    "lenVar": 40
   },
   "kernels_config": {
    "python": {
     "delete_cmd_postfix": "",
     "delete_cmd_prefix": "del ",
     "library": "var_list.py",
     "varRefreshCmd": "print(var_dic_list())"
    },
    "r": {
     "delete_cmd_postfix": ") ",
     "delete_cmd_prefix": "rm(",
     "library": "var_list.r",
     "varRefreshCmd": "cat(var_dic_list()) "
    }
   },
   "types_to_exclude": [
    "module",
    "function",
    "builtin_function_or_method",
    "instance",
    "_Feature"
   ],
   "window_display": false
  }
 },
 "nbformat": 4,
 "nbformat_minor": 2
}
