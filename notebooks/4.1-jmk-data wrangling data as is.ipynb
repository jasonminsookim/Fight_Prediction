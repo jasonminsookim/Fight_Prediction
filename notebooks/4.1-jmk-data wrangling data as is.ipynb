{
 "cells": [
  {
   "cell_type": "markdown",
   "metadata": {
    "ExecuteTime": {
     "end_time": "2019-02-12T17:24:55.914097Z",
     "start_time": "2019-02-12T17:24:55.911203Z"
    }
   },
   "source": [
    "# 1.1 Import libraries, data, and globals"
   ]
  },
  {
   "cell_type": "code",
   "execution_count": 1,
   "metadata": {
    "ExecuteTime": {
     "end_time": "2019-03-05T02:25:38.578834Z",
     "start_time": "2019-03-05T02:25:32.443661Z"
    }
   },
   "outputs": [],
   "source": [
    "%matplotlib inline\n",
    "%load_ext autoreload\n",
    "%autoreload 2\n",
    "\n",
    "# Get rid of warnings\n",
    "import warnings\n",
    "warnings.filterwarnings('ignore')\n",
    "\n",
    "# General libraries\n",
    "import requests\n",
    "import pandas as pd\n",
    "import string\n",
    "import time\n",
    "from bs4 import BeautifulSoup\n",
    "from pandas.plotting import scatter_matrix\n",
    "import os \n",
    "import string\n",
    "import random\n",
    "import numpy as np\n",
    "import re\n",
    "import datetime\n",
    "from dateutil.relativedelta import relativedelta\n",
    "import category_encoders as ce\n",
    "import pickle\n",
    "\n",
    "# Sklearn Specific\n",
    "from sklearn.model_selection import cross_val_score \n",
    "from sklearn.model_selection import cross_validate\n",
    "from sklearn import preprocessing\n",
    "\n",
    "# sklearn algos\n",
    "from sklearn.linear_model import LogisticRegression\n",
    "from sklearn.ensemble import RandomForestClassifier\n",
    "from sklearn import svm\n",
    "from sklearn.neighbors import KNeighborsClassifier \n",
    "from sklearn.tree import DecisionTreeClassifier\n",
    "from sklearn.naive_bayes import GaussianNB # Naive Bayes\n",
    "from sklearn.linear_model import Perceptron\n",
    "from sklearn.linear_model import SGDClassifier # SGD\n",
    "from sklearn.neural_network import MLPClassifier # neural network (multilayer perceptron)\n",
    "\n",
    "# Bayesian Hyperparameter optimization\n",
    "from hyperopt import hp, tpe, fmin\n",
    "\n",
    "# Import data and remove Tony Johnson\n",
    "fs_df = pd.read_csv(\"../data/scraped_data/full_stats_v5.csv\")\n",
    "fs_df = fs_df[fs_df['fighter_1'] != \"Tony Johnson\"]\n",
    "fs_df = fs_df[fs_df['fighter_2'] != \"Tony Johnson\"]\n",
    "\n",
    "fc_df = pd.read_csv(\"../data/scraped_data/fighter_char_v3.csv\")\n",
    "fc_df = fc_df[fc_df['name'] != \"Tony Johnson\"]"
   ]
  },
  {
   "cell_type": "markdown",
   "metadata": {},
   "source": [
    "# 1.2 Functions"
   ]
  },
  {
   "cell_type": "code",
   "execution_count": 2,
   "metadata": {
    "ExecuteTime": {
     "end_time": "2019-03-05T02:25:38.749761Z",
     "start_time": "2019-03-05T02:25:38.580723Z"
    }
   },
   "outputs": [],
   "source": [
    "# Create dictionary with each fighter having a pd.df with all of their fights\n",
    "def generate_fighters_dict():\n",
    "    cols = two_pf.columns.tolist()\n",
    "    fighters = {}\n",
    "    for index, row in two_pf.iterrows():\n",
    "        fighter = row[\"a_fighter\"]\n",
    "        if fighter not in fighters:\n",
    "            fighters[fighter] = [row]\n",
    "        else:\n",
    "            fighters[fighter].append(row)\n",
    "    for fighter in fighters:\n",
    "        rows_list = fighters[fighter]\n",
    "        fighters[fighter] = pd.DataFrame(columns=cols, data=rows_list)\n",
    "    return fighters\n",
    "\n",
    "# Gets filtered fighter information\n",
    "def get_fighter_info(past_df, is_fighter, lb_num, is_exact):\n",
    "    if is_exact:\n",
    "        latest_df = past_df.head(lb_num)\n",
    "    else:\n",
    "        latest_df = past_df\n",
    "        \n",
    "    latest_lb_cum = latest_df.mean(skipna=True, numeric_only=True).to_dict()\n",
    "    new_dict = {}\n",
    "    if is_fighter:\n",
    "        for var in latest_lb_cum:\n",
    "            if var[0] == \"f\":\n",
    "                new_dict[var] = latest_lb_cum[var]\n",
    "    else:\n",
    "        for var in latest_lb_cum:\n",
    "            if var[0] == \"f\":\n",
    "                new_var = var.replace(\"f_\", \"o_\")\n",
    "                new_dict[new_var] = latest_lb_cum[var]\n",
    "    return(new_dict)\n",
    "\n",
    "# Generates cumulative df\n",
    "def generate_cum_df(fighters_dict, lb_num, is_exact):\n",
    "    \n",
    "    cumulative_df = pd.DataFrame(columns = two_pf.columns)\n",
    "    \n",
    "    for index, row in two_pf.iterrows():\n",
    "        fighter_name = row[\"a_fighter\"]\n",
    "        opponent_name = row[\"a_opponent\"]\n",
    "        fight_date = row[\"date\"]\n",
    "        fighter_df = fighters_dict[fighter_name]\n",
    "        opponent_df = fighters_dict[opponent_name]\n",
    "        \n",
    "        past_fighter_df = fighter_df.loc[fighter_df['date'] < fight_date]\n",
    "        if past_fighter_df.shape[0] < lb_num:\n",
    "            continue\n",
    "        past_opponent_df = opponent_df.loc[opponent_df['date'] < fight_date]\n",
    "        if past_opponent_df.shape[0] < lb_num:\n",
    "            continue\n",
    "        fighter_info = get_fighter_info(past_fighter_df, True, lb_num, is_exact)\n",
    "        opponent_info = get_fighter_info(past_opponent_df, False, lb_num, is_exact)\n",
    "        all_info = dict(fighter_info, **opponent_info)\n",
    "        all_info['a_fighter'] = row['a_fighter']\n",
    "        all_info['a_opponent'] = row['a_opponent']\n",
    "        all_info['a_winner'] = row['a_winner']\n",
    "        all_info['date'] = row['date']\n",
    "        all_info['result'] = row['result']\n",
    "    \n",
    "        # Merge fight characterestics\n",
    "        fc_index = 0\n",
    "        f_init = \"fo\"\n",
    "        fighters_list = [fighter_name,opponent_name]\n",
    "        \n",
    "        for fighter in fighters_list:\n",
    "            fc_index_r = fc_index%2\n",
    "            \n",
    "            # Merge in height, reach, and stance\n",
    "            all_info['{0}_height'.format(f_init[fc_index_r])] = fc_df.loc[fc_df['full_name'] == fighters_list[fc_index_r]]['height'].item()\n",
    "            all_info['{0}_reach'.format(f_init[fc_index_r])] = fc_df.loc[fc_df['full_name'] == fighters_list[fc_index_r]]['reach'].item()\n",
    "            all_info['{0}_stance'.format(f_init[fc_index_r])] = fc_df.loc[fc_df['full_name'] == fighters_list[fc_index_r]]['stance'].item()\n",
    "            \n",
    "            #Merge in age of fighter\n",
    "            DOB = fc_df.loc[fc_df['full_name'] == fighters_list[fc_index_r]]['DOB'].item()\n",
    "            if(DOB == \"--\"):\n",
    "                break\n",
    "            age = relativedelta(fight_date, DOB).years\n",
    "            all_info['{0}_age'.format(f_init[fc_index_r])] = age\n",
    "\n",
    "            fc_index += 1\n",
    "            \n",
    "        \n",
    "        # Convert dict to pdf\n",
    "        all_info_df = pd.DataFrame(all_info, index=[0])\n",
    "        \n",
    "        cumulative_df = pd.concat([cumulative_df, all_info_df])\n",
    "        \n",
    "    return(cumulative_df)\n"
   ]
  },
  {
   "cell_type": "markdown",
   "metadata": {},
   "source": [
    "# 2.1 Data wrangling for full_stats"
   ]
  },
  {
   "cell_type": "markdown",
   "metadata": {},
   "source": [
    "#### Add Totals"
   ]
  },
  {
   "cell_type": "code",
   "execution_count": 3,
   "metadata": {
    "ExecuteTime": {
     "end_time": "2019-03-05T02:25:44.102829Z",
     "start_time": "2019-03-05T02:25:43.023588Z"
    },
    "scrolled": true
   },
   "outputs": [],
   "source": [
    "fs_df = fs_df.fillna(0) # Fill NaN with 0\n",
    "\n",
    "# Calc time of fight in seconds\n",
    "fs_df['duration'] = fs_df.apply(lambda x: (int(x['end_round'])-1)*60*5 + int(x['end_time'].split(\":\")[0])*60 + int(x['end_time'].split(\":\")[1]) , axis = 1)\n",
    "\n",
    "# Convert date to date object\n",
    "fs_df['date'] = fs_df.apply(lambda x: datetime.datetime.strptime(x['date'],'%Y-%m-%d').date(), axis = 1)\n",
    "\n",
    "\n",
    "# Calc totals for each fighter\n",
    "which_fighter = [\"f1\",\"f2\"]\n",
    "stat_name_ending = [\"kds\",\"sigstrikes_l\",\"sigstrikes_a\",\"strikes_l\",\"strikes_a\",\"tds_l\",\"tds_a\",\"subs_a\",\"passes\",\n",
    "                   \"revs\",\"ss_head_l\",\"ss_head_a\",\"ss_body_l\",\"ss_body_a\",\"ss_leg_l\",\"ss_leg_a\",\"ss_dist_l\",\"ss_dist_a\",\n",
    "                   \"ss_clinch_l\",\"ss_clinch_a\",\"ss_ground_l\",\"ss_ground_a\"]\n",
    "\n",
    "for f in which_fighter:\n",
    "    \n",
    "    for stat in stat_name_ending:\n",
    "        \n",
    "        fs_df[f+'_t_' + stat] = np.sum(fs_df.loc[:,(fs_df.columns.str.startswith(f) & fs_df.columns.str.endswith(stat))], axis =1)\n",
    "        \n",
    "        fs_df[f+'_pm_' + stat] =  fs_df[f+'_t_' + stat] / fs_df['duration'] * 60\n"
   ]
  },
  {
   "cell_type": "markdown",
   "metadata": {},
   "source": [
    "#### Subset the Data for Key Stats and Per Minute "
   ]
  },
  {
   "cell_type": "code",
   "execution_count": 4,
   "metadata": {
    "ExecuteTime": {
     "end_time": "2019-03-05T02:25:51.817045Z",
     "start_time": "2019-03-05T02:25:51.669022Z"
    }
   },
   "outputs": [],
   "source": [
    "matchers = ['fighter','winner',\"_pm_\",\"date\"]\n",
    "ml_cols = [s for s in fs_df.columns if any(xs in s for xs in matchers)]\n",
    "ml_df = fs_df[ml_cols]"
   ]
  },
  {
   "cell_type": "markdown",
   "metadata": {},
   "source": [
    "#### Make each fight have two rows, so that the label is win or lose"
   ]
  },
  {
   "cell_type": "code",
   "execution_count": 5,
   "metadata": {
    "ExecuteTime": {
     "end_time": "2019-03-05T02:25:52.075104Z",
     "start_time": "2019-03-05T02:25:51.934072Z"
    },
    "scrolled": false
   },
   "outputs": [],
   "source": [
    "# Part 1\n",
    "part_1_df = ml_df.copy()\n",
    "\n",
    "part1_key_cols = part_1_df.columns\n",
    "part1_value_cols = []\n",
    "\n",
    "for col in part1_key_cols:\n",
    "    new_col = col.replace(\"f1\",\"f\")\n",
    "    new_col = new_col.replace(\"f2\",\"o\")\n",
    "    new_col = new_col.replace(\"fighter_1\",\"a_fighter\")\n",
    "    new_col = new_col.replace(\"fighter_2\",\"a_opponent\")\n",
    "    new_col = new_col.replace(\"winner\",\"a_winner\")\n",
    "    part1_value_cols.append(new_col)\n",
    "    \n",
    "p1_col_dict = dict(zip(part1_key_cols, part1_value_cols))\n",
    "\n",
    "part_1_df = part_1_df.rename(columns = p1_col_dict)"
   ]
  },
  {
   "cell_type": "code",
   "execution_count": 6,
   "metadata": {
    "ExecuteTime": {
     "end_time": "2019-03-05T02:25:52.259144Z",
     "start_time": "2019-03-05T02:25:52.120113Z"
    }
   },
   "outputs": [],
   "source": [
    "# Part 2\n",
    "part_2_df = ml_df.copy()\n",
    "\n",
    "part2_key_cols = part_2_df.columns\n",
    "part2_value_cols = []\n",
    "\n",
    "for col in part2_key_cols:\n",
    "    new_col = col.replace(\"f1\",\"o\")\n",
    "    new_col = new_col.replace(\"f2\",\"f\")\n",
    "    new_col = new_col.replace(\"fighter_1\",\"a_opponent\")\n",
    "    new_col = new_col.replace(\"fighter_2\",\"a_fighter\")\n",
    "    new_col = new_col.replace(\"winner\",\"a_winner\")\n",
    "    part2_value_cols.append(new_col)\n",
    "    \n",
    "p2_col_dict = dict(zip(part2_key_cols, part2_value_cols))\n",
    "\n",
    "part_2_df = part_2_df.rename(columns = p2_col_dict)"
   ]
  },
  {
   "cell_type": "code",
   "execution_count": 7,
   "metadata": {
    "ExecuteTime": {
     "end_time": "2019-03-05T02:25:52.674237Z",
     "start_time": "2019-03-05T02:25:52.264146Z"
    },
    "scrolled": true
   },
   "outputs": [],
   "source": [
    "two_pf = pd.concat([part_1_df, part_2_df], sort = True)\n",
    "two_pf = two_pf.sort_values(by ='date', ascending= False)\n",
    "two_pf['result'] = two_pf.apply(lambda x: int(x['a_fighter'] == x['a_winner']), axis =1)\n"
   ]
  },
  {
   "cell_type": "markdown",
   "metadata": {},
   "source": [
    "#### Show head and describe the wrangled dataset"
   ]
  },
  {
   "cell_type": "code",
   "execution_count": 8,
   "metadata": {
    "ExecuteTime": {
     "end_time": "2019-03-05T02:25:52.909290Z",
     "start_time": "2019-03-05T02:25:52.749255Z"
    }
   },
   "outputs": [
    {
     "data": {
      "text/html": [
       "<div>\n",
       "<style scoped>\n",
       "    .dataframe tbody tr th:only-of-type {\n",
       "        vertical-align: middle;\n",
       "    }\n",
       "\n",
       "    .dataframe tbody tr th {\n",
       "        vertical-align: top;\n",
       "    }\n",
       "\n",
       "    .dataframe thead th {\n",
       "        text-align: right;\n",
       "    }\n",
       "</style>\n",
       "<table border=\"1\" class=\"dataframe\">\n",
       "  <thead>\n",
       "    <tr style=\"text-align: right;\">\n",
       "      <th></th>\n",
       "      <th>a_fighter</th>\n",
       "      <th>a_opponent</th>\n",
       "      <th>a_winner</th>\n",
       "      <th>date</th>\n",
       "      <th>f_pm_kds</th>\n",
       "      <th>f_pm_passes</th>\n",
       "      <th>f_pm_revs</th>\n",
       "      <th>f_pm_sigstrikes_a</th>\n",
       "      <th>f_pm_sigstrikes_l</th>\n",
       "      <th>f_pm_ss_body_a</th>\n",
       "      <th>...</th>\n",
       "      <th>o_pm_ss_head_a</th>\n",
       "      <th>o_pm_ss_head_l</th>\n",
       "      <th>o_pm_ss_leg_a</th>\n",
       "      <th>o_pm_ss_leg_l</th>\n",
       "      <th>o_pm_strikes_a</th>\n",
       "      <th>o_pm_strikes_l</th>\n",
       "      <th>o_pm_subs_a</th>\n",
       "      <th>o_pm_tds_a</th>\n",
       "      <th>o_pm_tds_l</th>\n",
       "      <th>result</th>\n",
       "    </tr>\n",
       "  </thead>\n",
       "  <tbody>\n",
       "    <tr>\n",
       "      <th>0</th>\n",
       "      <td>Francis Ngannou \"The Predator\"</td>\n",
       "      <td>Cain Velasquez</td>\n",
       "      <td>Francis Ngannou \"The Predator\"</td>\n",
       "      <td>2019-02-17</td>\n",
       "      <td>0.0</td>\n",
       "      <td>0.000000</td>\n",
       "      <td>0.0</td>\n",
       "      <td>46.153846</td>\n",
       "      <td>27.692308</td>\n",
       "      <td>2.307692</td>\n",
       "      <td>...</td>\n",
       "      <td>23.076923</td>\n",
       "      <td>13.846154</td>\n",
       "      <td>0.000000</td>\n",
       "      <td>0.000000</td>\n",
       "      <td>36.745562</td>\n",
       "      <td>12.248521</td>\n",
       "      <td>0.0</td>\n",
       "      <td>2.307692</td>\n",
       "      <td>0.0</td>\n",
       "      <td>1</td>\n",
       "    </tr>\n",
       "    <tr>\n",
       "      <th>1</th>\n",
       "      <td>James Vick \"The Texecutioner\"</td>\n",
       "      <td>Paul Felder \"The Irish Dragon\"</td>\n",
       "      <td>James Vick \"The Texecutioner\"</td>\n",
       "      <td>2019-02-17</td>\n",
       "      <td>0.0</td>\n",
       "      <td>0.000000</td>\n",
       "      <td>0.0</td>\n",
       "      <td>11.333333</td>\n",
       "      <td>5.533333</td>\n",
       "      <td>0.933333</td>\n",
       "      <td>...</td>\n",
       "      <td>5.000000</td>\n",
       "      <td>1.600000</td>\n",
       "      <td>1.666667</td>\n",
       "      <td>1.400000</td>\n",
       "      <td>25.328889</td>\n",
       "      <td>12.244444</td>\n",
       "      <td>0.0</td>\n",
       "      <td>0.000000</td>\n",
       "      <td>0.0</td>\n",
       "      <td>1</td>\n",
       "    </tr>\n",
       "    <tr>\n",
       "      <th>11</th>\n",
       "      <td>Emily Whitmire \"Spitfire\"</td>\n",
       "      <td>Alexandra Albu \"Stitch\"</td>\n",
       "      <td>Alexandra Albu \"Stitch\"</td>\n",
       "      <td>2019-02-17</td>\n",
       "      <td>0.0</td>\n",
       "      <td>1.967213</td>\n",
       "      <td>0.0</td>\n",
       "      <td>4.918033</td>\n",
       "      <td>2.950820</td>\n",
       "      <td>0.000000</td>\n",
       "      <td>...</td>\n",
       "      <td>8.852459</td>\n",
       "      <td>3.934426</td>\n",
       "      <td>0.983607</td>\n",
       "      <td>0.983607</td>\n",
       "      <td>41.150228</td>\n",
       "      <td>15.673206</td>\n",
       "      <td>0.0</td>\n",
       "      <td>0.000000</td>\n",
       "      <td>0.0</td>\n",
       "      <td>0</td>\n",
       "    </tr>\n",
       "  </tbody>\n",
       "</table>\n",
       "<p>3 rows × 49 columns</p>\n",
       "</div>"
      ],
      "text/plain": [
       "                         a_fighter                      a_opponent  \\\n",
       "0   Francis Ngannou \"The Predator\"                  Cain Velasquez   \n",
       "1    James Vick \"The Texecutioner\"  Paul Felder \"The Irish Dragon\"   \n",
       "11       Emily Whitmire \"Spitfire\"         Alexandra Albu \"Stitch\"   \n",
       "\n",
       "                          a_winner        date  f_pm_kds  f_pm_passes  \\\n",
       "0   Francis Ngannou \"The Predator\"  2019-02-17       0.0     0.000000   \n",
       "1    James Vick \"The Texecutioner\"  2019-02-17       0.0     0.000000   \n",
       "11         Alexandra Albu \"Stitch\"  2019-02-17       0.0     1.967213   \n",
       "\n",
       "    f_pm_revs  f_pm_sigstrikes_a  f_pm_sigstrikes_l  f_pm_ss_body_a  ...  \\\n",
       "0         0.0          46.153846          27.692308        2.307692  ...   \n",
       "1         0.0          11.333333           5.533333        0.933333  ...   \n",
       "11        0.0           4.918033           2.950820        0.000000  ...   \n",
       "\n",
       "    o_pm_ss_head_a  o_pm_ss_head_l  o_pm_ss_leg_a  o_pm_ss_leg_l  \\\n",
       "0        23.076923       13.846154       0.000000       0.000000   \n",
       "1         5.000000        1.600000       1.666667       1.400000   \n",
       "11        8.852459        3.934426       0.983607       0.983607   \n",
       "\n",
       "    o_pm_strikes_a  o_pm_strikes_l  o_pm_subs_a  o_pm_tds_a  o_pm_tds_l  \\\n",
       "0        36.745562       12.248521          0.0    2.307692         0.0   \n",
       "1        25.328889       12.244444          0.0    0.000000         0.0   \n",
       "11       41.150228       15.673206          0.0    0.000000         0.0   \n",
       "\n",
       "    result  \n",
       "0        1  \n",
       "1        1  \n",
       "11       0  \n",
       "\n",
       "[3 rows x 49 columns]"
      ]
     },
     "execution_count": 8,
     "metadata": {},
     "output_type": "execute_result"
    }
   ],
   "source": [
    "two_pf.head(3)"
   ]
  },
  {
   "cell_type": "code",
   "execution_count": 9,
   "metadata": {
    "ExecuteTime": {
     "end_time": "2019-03-05T02:25:53.183351Z",
     "start_time": "2019-03-05T02:25:52.912292Z"
    },
    "scrolled": true
   },
   "outputs": [
    {
     "data": {
      "text/html": [
       "<div>\n",
       "<style scoped>\n",
       "    .dataframe tbody tr th:only-of-type {\n",
       "        vertical-align: middle;\n",
       "    }\n",
       "\n",
       "    .dataframe tbody tr th {\n",
       "        vertical-align: top;\n",
       "    }\n",
       "\n",
       "    .dataframe thead th {\n",
       "        text-align: right;\n",
       "    }\n",
       "</style>\n",
       "<table border=\"1\" class=\"dataframe\">\n",
       "  <thead>\n",
       "    <tr style=\"text-align: right;\">\n",
       "      <th></th>\n",
       "      <th>f_pm_kds</th>\n",
       "      <th>f_pm_passes</th>\n",
       "      <th>f_pm_revs</th>\n",
       "      <th>f_pm_sigstrikes_a</th>\n",
       "      <th>f_pm_sigstrikes_l</th>\n",
       "      <th>f_pm_ss_body_a</th>\n",
       "      <th>f_pm_ss_body_l</th>\n",
       "      <th>f_pm_ss_clinch_a</th>\n",
       "      <th>f_pm_ss_clinch_l</th>\n",
       "      <th>f_pm_ss_dist_a</th>\n",
       "      <th>...</th>\n",
       "      <th>o_pm_ss_head_a</th>\n",
       "      <th>o_pm_ss_head_l</th>\n",
       "      <th>o_pm_ss_leg_a</th>\n",
       "      <th>o_pm_ss_leg_l</th>\n",
       "      <th>o_pm_strikes_a</th>\n",
       "      <th>o_pm_strikes_l</th>\n",
       "      <th>o_pm_subs_a</th>\n",
       "      <th>o_pm_tds_a</th>\n",
       "      <th>o_pm_tds_l</th>\n",
       "      <th>result</th>\n",
       "    </tr>\n",
       "  </thead>\n",
       "  <tbody>\n",
       "    <tr>\n",
       "      <th>count</th>\n",
       "      <td>9866.000000</td>\n",
       "      <td>9866.000000</td>\n",
       "      <td>9866.000000</td>\n",
       "      <td>9866.000000</td>\n",
       "      <td>9866.000000</td>\n",
       "      <td>9866.000000</td>\n",
       "      <td>9866.000000</td>\n",
       "      <td>9866.000000</td>\n",
       "      <td>9866.000000</td>\n",
       "      <td>9866.000000</td>\n",
       "      <td>...</td>\n",
       "      <td>9866.000000</td>\n",
       "      <td>9866.000000</td>\n",
       "      <td>9866.000000</td>\n",
       "      <td>9866.000000</td>\n",
       "      <td>9866.000000</td>\n",
       "      <td>9866.000000</td>\n",
       "      <td>9866.000000</td>\n",
       "      <td>9866.000000</td>\n",
       "      <td>9866.000000</td>\n",
       "      <td>9866.000000</td>\n",
       "    </tr>\n",
       "    <tr>\n",
       "      <th>mean</th>\n",
       "      <td>0.128069</td>\n",
       "      <td>0.188637</td>\n",
       "      <td>0.020098</td>\n",
       "      <td>10.079072</td>\n",
       "      <td>4.672931</td>\n",
       "      <td>1.156535</td>\n",
       "      <td>0.806863</td>\n",
       "      <td>1.141474</td>\n",
       "      <td>0.779893</td>\n",
       "      <td>7.324719</td>\n",
       "      <td>...</td>\n",
       "      <td>8.062033</td>\n",
       "      <td>3.189895</td>\n",
       "      <td>0.861356</td>\n",
       "      <td>0.678066</td>\n",
       "      <td>37.308198</td>\n",
       "      <td>18.770931</td>\n",
       "      <td>0.111921</td>\n",
       "      <td>0.379623</td>\n",
       "      <td>0.162333</td>\n",
       "      <td>0.491790</td>\n",
       "    </tr>\n",
       "    <tr>\n",
       "      <th>std</th>\n",
       "      <td>0.681112</td>\n",
       "      <td>0.494391</td>\n",
       "      <td>0.180453</td>\n",
       "      <td>9.273370</td>\n",
       "      <td>5.734757</td>\n",
       "      <td>1.128777</td>\n",
       "      <td>0.879737</td>\n",
       "      <td>2.135073</td>\n",
       "      <td>1.491094</td>\n",
       "      <td>6.401251</td>\n",
       "      <td>...</td>\n",
       "      <td>6.997737</td>\n",
       "      <td>3.854575</td>\n",
       "      <td>0.991489</td>\n",
       "      <td>0.804398</td>\n",
       "      <td>46.824339</td>\n",
       "      <td>31.798594</td>\n",
       "      <td>0.427196</td>\n",
       "      <td>0.579660</td>\n",
       "      <td>0.374653</td>\n",
       "      <td>0.499958</td>\n",
       "    </tr>\n",
       "    <tr>\n",
       "      <th>min</th>\n",
       "      <td>0.000000</td>\n",
       "      <td>0.000000</td>\n",
       "      <td>0.000000</td>\n",
       "      <td>0.000000</td>\n",
       "      <td>0.000000</td>\n",
       "      <td>0.000000</td>\n",
       "      <td>0.000000</td>\n",
       "      <td>0.000000</td>\n",
       "      <td>0.000000</td>\n",
       "      <td>0.000000</td>\n",
       "      <td>...</td>\n",
       "      <td>0.000000</td>\n",
       "      <td>0.000000</td>\n",
       "      <td>0.000000</td>\n",
       "      <td>0.000000</td>\n",
       "      <td>0.000000</td>\n",
       "      <td>0.000000</td>\n",
       "      <td>0.000000</td>\n",
       "      <td>0.000000</td>\n",
       "      <td>0.000000</td>\n",
       "      <td>0.000000</td>\n",
       "    </tr>\n",
       "    <tr>\n",
       "      <th>25%</th>\n",
       "      <td>0.000000</td>\n",
       "      <td>0.000000</td>\n",
       "      <td>0.000000</td>\n",
       "      <td>4.705882</td>\n",
       "      <td>1.834179</td>\n",
       "      <td>0.400000</td>\n",
       "      <td>0.261059</td>\n",
       "      <td>0.133333</td>\n",
       "      <td>0.066667</td>\n",
       "      <td>2.733333</td>\n",
       "      <td>...</td>\n",
       "      <td>3.733333</td>\n",
       "      <td>1.200000</td>\n",
       "      <td>0.200000</td>\n",
       "      <td>0.133333</td>\n",
       "      <td>17.430650</td>\n",
       "      <td>7.481107</td>\n",
       "      <td>0.000000</td>\n",
       "      <td>0.000000</td>\n",
       "      <td>0.000000</td>\n",
       "      <td>0.000000</td>\n",
       "    </tr>\n",
       "    <tr>\n",
       "      <th>50%</th>\n",
       "      <td>0.000000</td>\n",
       "      <td>0.000000</td>\n",
       "      <td>0.000000</td>\n",
       "      <td>7.904192</td>\n",
       "      <td>3.333333</td>\n",
       "      <td>0.882353</td>\n",
       "      <td>0.600000</td>\n",
       "      <td>0.560748</td>\n",
       "      <td>0.343348</td>\n",
       "      <td>5.766711</td>\n",
       "      <td>...</td>\n",
       "      <td>6.333333</td>\n",
       "      <td>2.186867</td>\n",
       "      <td>0.600000</td>\n",
       "      <td>0.455812</td>\n",
       "      <td>27.600000</td>\n",
       "      <td>12.744637</td>\n",
       "      <td>0.000000</td>\n",
       "      <td>0.200000</td>\n",
       "      <td>0.000000</td>\n",
       "      <td>0.000000</td>\n",
       "    </tr>\n",
       "    <tr>\n",
       "      <th>75%</th>\n",
       "      <td>0.000000</td>\n",
       "      <td>0.200000</td>\n",
       "      <td>0.000000</td>\n",
       "      <td>12.631579</td>\n",
       "      <td>5.533333</td>\n",
       "      <td>1.590909</td>\n",
       "      <td>1.071429</td>\n",
       "      <td>1.333333</td>\n",
       "      <td>0.933333</td>\n",
       "      <td>10.133333</td>\n",
       "      <td>...</td>\n",
       "      <td>10.200000</td>\n",
       "      <td>3.733333</td>\n",
       "      <td>1.200000</td>\n",
       "      <td>0.963855</td>\n",
       "      <td>42.460000</td>\n",
       "      <td>20.077501</td>\n",
       "      <td>0.066667</td>\n",
       "      <td>0.533333</td>\n",
       "      <td>0.200000</td>\n",
       "      <td>1.000000</td>\n",
       "    </tr>\n",
       "    <tr>\n",
       "      <th>max</th>\n",
       "      <td>17.142857</td>\n",
       "      <td>13.333333</td>\n",
       "      <td>13.333333</td>\n",
       "      <td>137.142857</td>\n",
       "      <td>112.000000</td>\n",
       "      <td>21.000000</td>\n",
       "      <td>18.000000</td>\n",
       "      <td>51.176471</td>\n",
       "      <td>35.294118</td>\n",
       "      <td>75.000000</td>\n",
       "      <td>...</td>\n",
       "      <td>94.285714</td>\n",
       "      <td>56.250000</td>\n",
       "      <td>22.000000</td>\n",
       "      <td>16.000000</td>\n",
       "      <td>1016.326531</td>\n",
       "      <td>810.612245</td>\n",
       "      <td>13.333333</td>\n",
       "      <td>10.909091</td>\n",
       "      <td>10.909091</td>\n",
       "      <td>1.000000</td>\n",
       "    </tr>\n",
       "  </tbody>\n",
       "</table>\n",
       "<p>8 rows × 45 columns</p>\n",
       "</div>"
      ],
      "text/plain": [
       "          f_pm_kds  f_pm_passes    f_pm_revs  f_pm_sigstrikes_a  \\\n",
       "count  9866.000000  9866.000000  9866.000000        9866.000000   \n",
       "mean      0.128069     0.188637     0.020098          10.079072   \n",
       "std       0.681112     0.494391     0.180453           9.273370   \n",
       "min       0.000000     0.000000     0.000000           0.000000   \n",
       "25%       0.000000     0.000000     0.000000           4.705882   \n",
       "50%       0.000000     0.000000     0.000000           7.904192   \n",
       "75%       0.000000     0.200000     0.000000          12.631579   \n",
       "max      17.142857    13.333333    13.333333         137.142857   \n",
       "\n",
       "       f_pm_sigstrikes_l  f_pm_ss_body_a  f_pm_ss_body_l  f_pm_ss_clinch_a  \\\n",
       "count        9866.000000     9866.000000     9866.000000       9866.000000   \n",
       "mean            4.672931        1.156535        0.806863          1.141474   \n",
       "std             5.734757        1.128777        0.879737          2.135073   \n",
       "min             0.000000        0.000000        0.000000          0.000000   \n",
       "25%             1.834179        0.400000        0.261059          0.133333   \n",
       "50%             3.333333        0.882353        0.600000          0.560748   \n",
       "75%             5.533333        1.590909        1.071429          1.333333   \n",
       "max           112.000000       21.000000       18.000000         51.176471   \n",
       "\n",
       "       f_pm_ss_clinch_l  f_pm_ss_dist_a  ...  o_pm_ss_head_a  o_pm_ss_head_l  \\\n",
       "count       9866.000000     9866.000000  ...     9866.000000     9866.000000   \n",
       "mean           0.779893        7.324719  ...        8.062033        3.189895   \n",
       "std            1.491094        6.401251  ...        6.997737        3.854575   \n",
       "min            0.000000        0.000000  ...        0.000000        0.000000   \n",
       "25%            0.066667        2.733333  ...        3.733333        1.200000   \n",
       "50%            0.343348        5.766711  ...        6.333333        2.186867   \n",
       "75%            0.933333       10.133333  ...       10.200000        3.733333   \n",
       "max           35.294118       75.000000  ...       94.285714       56.250000   \n",
       "\n",
       "       o_pm_ss_leg_a  o_pm_ss_leg_l  o_pm_strikes_a  o_pm_strikes_l  \\\n",
       "count    9866.000000    9866.000000     9866.000000     9866.000000   \n",
       "mean        0.861356       0.678066       37.308198       18.770931   \n",
       "std         0.991489       0.804398       46.824339       31.798594   \n",
       "min         0.000000       0.000000        0.000000        0.000000   \n",
       "25%         0.200000       0.133333       17.430650        7.481107   \n",
       "50%         0.600000       0.455812       27.600000       12.744637   \n",
       "75%         1.200000       0.963855       42.460000       20.077501   \n",
       "max        22.000000      16.000000     1016.326531      810.612245   \n",
       "\n",
       "       o_pm_subs_a   o_pm_tds_a   o_pm_tds_l       result  \n",
       "count  9866.000000  9866.000000  9866.000000  9866.000000  \n",
       "mean      0.111921     0.379623     0.162333     0.491790  \n",
       "std       0.427196     0.579660     0.374653     0.499958  \n",
       "min       0.000000     0.000000     0.000000     0.000000  \n",
       "25%       0.000000     0.000000     0.000000     0.000000  \n",
       "50%       0.000000     0.200000     0.000000     0.000000  \n",
       "75%       0.066667     0.533333     0.200000     1.000000  \n",
       "max      13.333333    10.909091    10.909091     1.000000  \n",
       "\n",
       "[8 rows x 45 columns]"
      ]
     },
     "execution_count": 9,
     "metadata": {},
     "output_type": "execute_result"
    }
   ],
   "source": [
    "two_pf.describe()"
   ]
  },
  {
   "cell_type": "markdown",
   "metadata": {},
   "source": [
    "# 2.2 Data Wrangling for fighter_char"
   ]
  },
  {
   "cell_type": "markdown",
   "metadata": {},
   "source": [
    "#### Calculate mean height and reach to fill in missing data"
   ]
  },
  {
   "cell_type": "code",
   "execution_count": 10,
   "metadata": {
    "ExecuteTime": {
     "end_time": "2019-03-05T02:25:57.045865Z",
     "start_time": "2019-03-05T02:25:54.477775Z"
    }
   },
   "outputs": [],
   "source": [
    "# Height\n",
    "height_df = fc_df[fc_df['height'] != \"--\"]\n",
    "height_df = height_df.reset_index()\n",
    "\n",
    "for index, row in height_df.iterrows():\n",
    "    height_list = row['height'].split(\" \")\n",
    "    p1 = int(re.sub(\"[^0-9]\", \"\", height_list[0]))*12\n",
    "    p2 = int(re.sub(\"[^0-9]\", \"\", height_list[1]))\n",
    "    height_df.loc[index, 'height'] = p1 + p2\n",
    "    \n",
    "mean_height = np.mean(height_df['height'])\n",
    "\n",
    "# Reach\n",
    "reach_df = fc_df[fc_df['reach'] != \"--\"]\n",
    "reach_df = reach_df.reset_index()\n",
    "\n",
    "for index, row in reach_df.iterrows():\n",
    "    reach_df.loc[index, 'reach'] = int(row['reach'].replace('\"',\"\"))\n",
    "    \n",
    "mean_reach = np.mean(reach_df['reach'])"
   ]
  },
  {
   "cell_type": "code",
   "execution_count": 11,
   "metadata": {
    "ExecuteTime": {
     "end_time": "2019-03-05T02:26:01.452060Z",
     "start_time": "2019-03-05T02:25:57.047856Z"
    }
   },
   "outputs": [],
   "source": [
    "fc_df = fc_df.drop(['Unnamed: 0'], axis = 1) # drops first column\n",
    "\n",
    "fc_df = fc_df.fillna(value = \"\") # fills na\n",
    "\n",
    "# Change values to numerics and add full_name column\n",
    "for index, row in fc_df.iterrows(): \n",
    "    # add full_name\n",
    "    if(row['nick_name'] == \"\"):\n",
    "        fc_df.loc[index,'full_name'] = row['name']\n",
    "        \n",
    "    else:\n",
    "        fc_df.loc[index,'full_name'] = row['name'] + ' \"' + row['nick_name'] + '\"' \n",
    "    \n",
    "    # convert height to int(inches)\n",
    "    if(row['height'] != \"--\"):\n",
    "        height_list = row['height'].split(\" \")\n",
    "        fc_df.loc[index,'height'] = int(re.sub(\"[^0-9]\", \"\", height_list[0]))*12 + int(re.sub(\"[^0-9]\", \"\", height_list[1]))\n",
    "    else:\n",
    "        fc_df.loc[index,'height'] = mean_height\n",
    "    \n",
    "    # convert reach to date object\n",
    "    if(row['reach'] != \"--\"):\n",
    "        fc_df.loc[index,'reach'] = int(row['reach'].replace('\"',\"\"))\n",
    "    else:\n",
    "        fc_df.loc[index,'reach'] = mean_reach\n",
    "        \n",
    "    # convert dob to date object\n",
    "    if(row['DOB'] != \"--\"):\n",
    "        date_str = row['DOB'].replace(\",\",\"\").replace(\" \",\"-\")\n",
    "        fc_df.loc[index,'DOB'] = datetime.datetime.strptime(date_str, '%b-%d-%Y').date()\n",
    "        \n",
    "        "
   ]
  },
  {
   "cell_type": "markdown",
   "metadata": {},
   "source": [
    "#### Show head and describe the wrangled dataset"
   ]
  },
  {
   "cell_type": "code",
   "execution_count": 12,
   "metadata": {
    "ExecuteTime": {
     "end_time": "2019-03-05T02:26:01.603085Z",
     "start_time": "2019-03-05T02:26:01.454052Z"
    }
   },
   "outputs": [
    {
     "data": {
      "text/html": [
       "<div>\n",
       "<style scoped>\n",
       "    .dataframe tbody tr th:only-of-type {\n",
       "        vertical-align: middle;\n",
       "    }\n",
       "\n",
       "    .dataframe tbody tr th {\n",
       "        vertical-align: top;\n",
       "    }\n",
       "\n",
       "    .dataframe thead th {\n",
       "        text-align: right;\n",
       "    }\n",
       "</style>\n",
       "<table border=\"1\" class=\"dataframe\">\n",
       "  <thead>\n",
       "    <tr style=\"text-align: right;\">\n",
       "      <th></th>\n",
       "      <th>name</th>\n",
       "      <th>nick_name</th>\n",
       "      <th>fight_record</th>\n",
       "      <th>height</th>\n",
       "      <th>weight</th>\n",
       "      <th>reach</th>\n",
       "      <th>stance</th>\n",
       "      <th>DOB</th>\n",
       "      <th>full_name</th>\n",
       "    </tr>\n",
       "  </thead>\n",
       "  <tbody>\n",
       "    <tr>\n",
       "      <th>0</th>\n",
       "      <td>Dongi Yang</td>\n",
       "      <td>The Ox</td>\n",
       "      <td>13-3-0</td>\n",
       "      <td>70</td>\n",
       "      <td>185 lbs.</td>\n",
       "      <td>71</td>\n",
       "      <td>Southpaw</td>\n",
       "      <td>1984-12-07</td>\n",
       "      <td>Dongi Yang \"The Ox\"</td>\n",
       "    </tr>\n",
       "    <tr>\n",
       "      <th>1</th>\n",
       "      <td>Goldman Butler</td>\n",
       "      <td></td>\n",
       "      <td>1-4-0</td>\n",
       "      <td>70.3936</td>\n",
       "      <td>--</td>\n",
       "      <td>71.8466</td>\n",
       "      <td></td>\n",
       "      <td>--</td>\n",
       "      <td>Goldman Butler</td>\n",
       "    </tr>\n",
       "    <tr>\n",
       "      <th>2</th>\n",
       "      <td>Ruslan Magomedov</td>\n",
       "      <td>Leopard</td>\n",
       "      <td>14-1-0</td>\n",
       "      <td>75</td>\n",
       "      <td>242 lbs.</td>\n",
       "      <td>78</td>\n",
       "      <td>Orthodox</td>\n",
       "      <td>1986-11-26</td>\n",
       "      <td>Ruslan Magomedov \"Leopard\"</td>\n",
       "    </tr>\n",
       "  </tbody>\n",
       "</table>\n",
       "</div>"
      ],
      "text/plain": [
       "               name nick_name fight_record   height    weight    reach  \\\n",
       "0        Dongi Yang    The Ox       13-3-0       70  185 lbs.       71   \n",
       "1    Goldman Butler                  1-4-0  70.3936        --  71.8466   \n",
       "2  Ruslan Magomedov   Leopard       14-1-0       75  242 lbs.       78   \n",
       "\n",
       "     stance         DOB                   full_name  \n",
       "0  Southpaw  1984-12-07         Dongi Yang \"The Ox\"  \n",
       "1                    --              Goldman Butler  \n",
       "2  Orthodox  1986-11-26  Ruslan Magomedov \"Leopard\"  "
      ]
     },
     "execution_count": 12,
     "metadata": {},
     "output_type": "execute_result"
    }
   ],
   "source": [
    "fc_df.head(3)"
   ]
  },
  {
   "cell_type": "code",
   "execution_count": 13,
   "metadata": {
    "ExecuteTime": {
     "end_time": "2019-03-05T02:26:01.777124Z",
     "start_time": "2019-03-05T02:26:01.605085Z"
    },
    "scrolled": false
   },
   "outputs": [
    {
     "data": {
      "text/html": [
       "<div>\n",
       "<style scoped>\n",
       "    .dataframe tbody tr th:only-of-type {\n",
       "        vertical-align: middle;\n",
       "    }\n",
       "\n",
       "    .dataframe tbody tr th {\n",
       "        vertical-align: top;\n",
       "    }\n",
       "\n",
       "    .dataframe thead th {\n",
       "        text-align: right;\n",
       "    }\n",
       "</style>\n",
       "<table border=\"1\" class=\"dataframe\">\n",
       "  <thead>\n",
       "    <tr style=\"text-align: right;\">\n",
       "      <th></th>\n",
       "      <th>name</th>\n",
       "      <th>nick_name</th>\n",
       "      <th>fight_record</th>\n",
       "      <th>height</th>\n",
       "      <th>weight</th>\n",
       "      <th>reach</th>\n",
       "      <th>stance</th>\n",
       "      <th>DOB</th>\n",
       "      <th>full_name</th>\n",
       "    </tr>\n",
       "  </thead>\n",
       "  <tbody>\n",
       "    <tr>\n",
       "      <th>count</th>\n",
       "      <td>3214</td>\n",
       "      <td>3214</td>\n",
       "      <td>3214</td>\n",
       "      <td>3214.0</td>\n",
       "      <td>3214</td>\n",
       "      <td>3214.000000</td>\n",
       "      <td>3214</td>\n",
       "      <td>3214</td>\n",
       "      <td>3214</td>\n",
       "    </tr>\n",
       "    <tr>\n",
       "      <th>unique</th>\n",
       "      <td>3212</td>\n",
       "      <td>1393</td>\n",
       "      <td>1044</td>\n",
       "      <td>26.0</td>\n",
       "      <td>109</td>\n",
       "      <td>26.000000</td>\n",
       "      <td>6</td>\n",
       "      <td>2142</td>\n",
       "      <td>3214</td>\n",
       "    </tr>\n",
       "    <tr>\n",
       "      <th>top</th>\n",
       "      <td>Mike Davis</td>\n",
       "      <td></td>\n",
       "      <td>0-1-0</td>\n",
       "      <td>72.0</td>\n",
       "      <td>170 lbs.</td>\n",
       "      <td>71.846561</td>\n",
       "      <td>Orthodox</td>\n",
       "      <td>--</td>\n",
       "      <td>Andre Muniz \"Sergipano\"</td>\n",
       "    </tr>\n",
       "    <tr>\n",
       "      <th>freq</th>\n",
       "      <td>2</td>\n",
       "      <td>1492</td>\n",
       "      <td>75</td>\n",
       "      <td>370.0</td>\n",
       "      <td>506</td>\n",
       "      <td>1702.000000</td>\n",
       "      <td>1873</td>\n",
       "      <td>737</td>\n",
       "      <td>1</td>\n",
       "    </tr>\n",
       "  </tbody>\n",
       "</table>\n",
       "</div>"
      ],
      "text/plain": [
       "              name nick_name fight_record  height    weight        reach  \\\n",
       "count         3214      3214         3214  3214.0      3214  3214.000000   \n",
       "unique        3212      1393         1044    26.0       109    26.000000   \n",
       "top     Mike Davis                  0-1-0    72.0  170 lbs.    71.846561   \n",
       "freq             2      1492           75   370.0       506  1702.000000   \n",
       "\n",
       "          stance   DOB                full_name  \n",
       "count       3214  3214                     3214  \n",
       "unique         6  2142                     3214  \n",
       "top     Orthodox    --  Andre Muniz \"Sergipano\"  \n",
       "freq        1873   737                        1  "
      ]
     },
     "execution_count": 13,
     "metadata": {},
     "output_type": "execute_result"
    }
   ],
   "source": [
    "fc_df.describe()"
   ]
  },
  {
   "cell_type": "markdown",
   "metadata": {},
   "source": [
    "# 3. Create cumulative statistics data with specified look back window"
   ]
  },
  {
   "cell_type": "markdown",
   "metadata": {},
   "source": [
    "#### Create functions to make the look back window dataframe"
   ]
  },
  {
   "cell_type": "code",
   "execution_count": 14,
   "metadata": {
    "ExecuteTime": {
     "end_time": "2019-03-05T02:26:14.857867Z",
     "start_time": "2019-03-05T02:26:06.804095Z"
    }
   },
   "outputs": [],
   "source": [
    "fighters_dict = generate_fighters_dict() # Generates a dictionary with each fighter having his own pd.DataFrame()"
   ]
  },
  {
   "cell_type": "markdown",
   "metadata": {},
   "source": [
    "## Make cumulative data using 1,3,5,7,10 lookback window"
   ]
  },
  {
   "cell_type": "code",
   "execution_count": 15,
   "metadata": {
    "ExecuteTime": {
     "end_time": "2019-03-05T02:35:02.699370Z",
     "start_time": "2019-03-05T02:26:43.347436Z"
    }
   },
   "outputs": [],
   "source": [
    "exact_1_df = generate_cum_df(fighters_dict,1, True)\n",
    "exact_4_df = generate_cum_df(fighters_dict,4, True)  \n",
    "exact_7_df = generate_cum_df(fighters_dict,7, True)  \n",
    "exact_10_df = generate_cum_df(fighters_dict,10, True)\n",
    "\n",
    "cumu_1_df = generate_cum_df(fighters_dict,1, False)    \n",
    "cumu_4_df = generate_cum_df(fighters_dict,4, False)      \n",
    "cumu_7_df = generate_cum_df(fighters_dict,7, False)\n",
    "cumu_10_df = generate_cum_df(fighters_dict,10, False)"
   ]
  },
  {
   "cell_type": "code",
   "execution_count": 16,
   "metadata": {
    "ExecuteTime": {
     "end_time": "2019-03-05T02:35:02.839843Z",
     "start_time": "2019-03-05T02:35:02.701322Z"
    }
   },
   "outputs": [],
   "source": [
    "cumu_dfs_dict = {\"Exact Data: 1 Fight Lookback Window\" : exact_1_df,\n",
    "                 \"Exact Data: 4 Fight Lookback Window\" : exact_4_df,\n",
    "                 \"Exact Data: 7 Fight Lookback Window\" : exact_7_df,\n",
    "                 \"Exact Data: 10 Fight Lookback Window\" : exact_10_df,\n",
    "                 \"Cumulative Data: 1 Fight Lookback Window\": cumu_1_df,\n",
    "                 \"Cumulative Data: 4 Fight Lookback Window\": cumu_4_df,\n",
    "                 \"Cumulative Data: 7 Fight Lookback Window\": cumu_7_df,\n",
    "                 \"Cumulative Data: 10 Fight Lookback Window\": cumu_10_df} #  create dictionary of the dfs"
   ]
  },
  {
   "cell_type": "markdown",
   "metadata": {},
   "source": [
    "# 4. Feature Engineering (Merging in height, reach, stance)"
   ]
  },
  {
   "cell_type": "code",
   "execution_count": 17,
   "metadata": {
    "ExecuteTime": {
     "end_time": "2019-03-05T02:35:03.119869Z",
     "start_time": "2019-03-05T02:35:02.840843Z"
    }
   },
   "outputs": [],
   "source": [
    "fe_cumu_dfs_dict = cumu_dfs_dict.copy() # create copy of aggregate data sets\n",
    "\n",
    "accuracy_stats = ['sigstrikes', 'strikes', 'tds', 'ss_head', 'ss_body', 'ss_leg', 'ss_dist', 'ss_clinch', 'ss_ground']\n",
    "for key in fe_cumu_dfs_dict:\n",
    "    \n",
    "    df = fe_cumu_dfs_dict[key].copy()\n",
    "    \n",
    "    \n",
    "    for stat in accuracy_stats:\n",
    "        \n",
    "        fe_index = 0\n",
    "        f_init = \"fo\"\n",
    "        \n",
    "        for letter in f_init:\n",
    "            \n",
    "            fe_index_r = fe_index%2\n",
    "            # Merge in height, reach, and stance\n",
    "            df['{0}_acu_{1}'.format(f_init[fe_index_r], stat)] =  df['{0}_pm_{1}_l'.format(f_init[fe_index_r], stat)] / df['{0}_pm_{1}_a'.format(f_init[fe_index_r], stat)]\n",
    "\n",
    "            fe_index += 1\n",
    "            \n",
    "    df = df.fillna(0)\n",
    "    fe_cumu_dfs_dict[key] = df\n",
    "    "
   ]
  },
  {
   "cell_type": "markdown",
   "metadata": {},
   "source": [
    "# 5. Calculate Differentials"
   ]
  },
  {
   "cell_type": "code",
   "execution_count": null,
   "metadata": {},
   "outputs": [],
   "source": []
  },
  {
   "cell_type": "markdown",
   "metadata": {},
   "source": [
    "# 6. Save data for Machine Learning "
   ]
  },
  {
   "cell_type": "code",
   "execution_count": 18,
   "metadata": {
    "ExecuteTime": {
     "end_time": "2019-03-05T02:35:03.270905Z",
     "start_time": "2019-03-05T02:35:03.121871Z"
    }
   },
   "outputs": [],
   "source": [
    "data_dicts_list = [cumu_dfs_dict,fe_cumu_dfs_dict] # add dictionaries to list"
   ]
  },
  {
   "cell_type": "markdown",
   "metadata": {},
   "source": [
    "#### Save the dictionaries"
   ]
  },
  {
   "cell_type": "code",
   "execution_count": 20,
   "metadata": {
    "ExecuteTime": {
     "end_time": "2019-03-05T02:36:00.685649Z",
     "start_time": "2019-03-05T02:36:00.467600Z"
    }
   },
   "outputs": [],
   "source": [
    "with open('../data/temp_data/data_dicts_v3.pickle', 'wb') as handle:\n",
    "    pickle.dump(data_dicts_list, handle, protocol=pickle.HIGHEST_PROTOCOL)"
   ]
  },
  {
   "cell_type": "code",
   "execution_count": 30,
   "metadata": {
    "ExecuteTime": {
     "end_time": "2019-03-04T20:19:20.902688Z",
     "start_time": "2019-03-04T20:19:20.767649Z"
    }
   },
   "outputs": [],
   "source": [
    "fe_cumu_lb1 = data_dicts_list[1]['Cumulative Data: 1 Fight Lookback Window']"
   ]
  },
  {
   "cell_type": "code",
   "execution_count": 32,
   "metadata": {
    "ExecuteTime": {
     "end_time": "2019-03-04T20:20:33.466606Z",
     "start_time": "2019-03-04T20:20:33.309570Z"
    },
    "scrolled": true
   },
   "outputs": [
    {
     "data": {
      "text/html": [
       "<div>\n",
       "<style scoped>\n",
       "    .dataframe tbody tr th:only-of-type {\n",
       "        vertical-align: middle;\n",
       "    }\n",
       "\n",
       "    .dataframe tbody tr th {\n",
       "        vertical-align: top;\n",
       "    }\n",
       "\n",
       "    .dataframe thead th {\n",
       "        text-align: right;\n",
       "    }\n",
       "</style>\n",
       "<table border=\"1\" class=\"dataframe\">\n",
       "  <thead>\n",
       "    <tr style=\"text-align: right;\">\n",
       "      <th></th>\n",
       "      <th>a_fighter</th>\n",
       "      <th>a_opponent</th>\n",
       "      <th>a_winner</th>\n",
       "      <th>date</th>\n",
       "      <th>f_age</th>\n",
       "      <th>f_height</th>\n",
       "      <th>f_pm_kds</th>\n",
       "      <th>f_pm_passes</th>\n",
       "      <th>f_pm_revs</th>\n",
       "      <th>f_pm_sigstrikes_a</th>\n",
       "      <th>...</th>\n",
       "      <th>f_acu_ss_body</th>\n",
       "      <th>o_acu_ss_body</th>\n",
       "      <th>f_acu_ss_leg</th>\n",
       "      <th>o_acu_ss_leg</th>\n",
       "      <th>f_acu_ss_dist</th>\n",
       "      <th>o_acu_ss_dist</th>\n",
       "      <th>f_acu_ss_clinch</th>\n",
       "      <th>o_acu_ss_clinch</th>\n",
       "      <th>f_acu_ss_ground</th>\n",
       "      <th>o_acu_ss_ground</th>\n",
       "    </tr>\n",
       "  </thead>\n",
       "  <tbody>\n",
       "    <tr>\n",
       "      <th>0</th>\n",
       "      <td>Francis Ngannou \"The Predator\"</td>\n",
       "      <td>Cain Velasquez</td>\n",
       "      <td>Francis Ngannou \"The Predator\"</td>\n",
       "      <td>2019-02-17</td>\n",
       "      <td>32.0</td>\n",
       "      <td>76.0</td>\n",
       "      <td>0.300066</td>\n",
       "      <td>0.000000</td>\n",
       "      <td>0.000000</td>\n",
       "      <td>10.473689</td>\n",
       "      <td>...</td>\n",
       "      <td>0.684405</td>\n",
       "      <td>0.744228</td>\n",
       "      <td>0.554595</td>\n",
       "      <td>0.873359</td>\n",
       "      <td>0.351589</td>\n",
       "      <td>0.404840</td>\n",
       "      <td>0.416385</td>\n",
       "      <td>0.750656</td>\n",
       "      <td>0.441310</td>\n",
       "      <td>0.744366</td>\n",
       "    </tr>\n",
       "    <tr>\n",
       "      <th>0</th>\n",
       "      <td>James Vick \"The Texecutioner\"</td>\n",
       "      <td>Paul Felder \"The Irish Dragon\"</td>\n",
       "      <td>James Vick \"The Texecutioner\"</td>\n",
       "      <td>2019-02-17</td>\n",
       "      <td>31.0</td>\n",
       "      <td>75.0</td>\n",
       "      <td>0.095899</td>\n",
       "      <td>0.035425</td>\n",
       "      <td>0.024242</td>\n",
       "      <td>13.726264</td>\n",
       "      <td>...</td>\n",
       "      <td>0.629991</td>\n",
       "      <td>0.675825</td>\n",
       "      <td>0.626267</td>\n",
       "      <td>0.775490</td>\n",
       "      <td>0.331481</td>\n",
       "      <td>0.426990</td>\n",
       "      <td>0.712775</td>\n",
       "      <td>0.625749</td>\n",
       "      <td>0.735255</td>\n",
       "      <td>0.447881</td>\n",
       "    </tr>\n",
       "    <tr>\n",
       "      <th>0</th>\n",
       "      <td>Emily Whitmire \"Spitfire\"</td>\n",
       "      <td>Alexandra Albu \"Stitch\"</td>\n",
       "      <td>Alexandra Albu \"Stitch\"</td>\n",
       "      <td>2019-02-17</td>\n",
       "      <td>27.0</td>\n",
       "      <td>65.0</td>\n",
       "      <td>0.000000</td>\n",
       "      <td>0.033333</td>\n",
       "      <td>0.227273</td>\n",
       "      <td>9.509091</td>\n",
       "      <td>...</td>\n",
       "      <td>0.590909</td>\n",
       "      <td>0.867580</td>\n",
       "      <td>0.928571</td>\n",
       "      <td>0.975768</td>\n",
       "      <td>0.401807</td>\n",
       "      <td>0.471556</td>\n",
       "      <td>0.250000</td>\n",
       "      <td>0.883051</td>\n",
       "      <td>0.666667</td>\n",
       "      <td>0.650000</td>\n",
       "    </tr>\n",
       "  </tbody>\n",
       "</table>\n",
       "<p>3 rows × 75 columns</p>\n",
       "</div>"
      ],
      "text/plain": [
       "                        a_fighter                      a_opponent  \\\n",
       "0  Francis Ngannou \"The Predator\"                  Cain Velasquez   \n",
       "0   James Vick \"The Texecutioner\"  Paul Felder \"The Irish Dragon\"   \n",
       "0       Emily Whitmire \"Spitfire\"         Alexandra Albu \"Stitch\"   \n",
       "\n",
       "                         a_winner        date  f_age  f_height  f_pm_kds  \\\n",
       "0  Francis Ngannou \"The Predator\"  2019-02-17   32.0      76.0  0.300066   \n",
       "0   James Vick \"The Texecutioner\"  2019-02-17   31.0      75.0  0.095899   \n",
       "0         Alexandra Albu \"Stitch\"  2019-02-17   27.0      65.0  0.000000   \n",
       "\n",
       "   f_pm_passes  f_pm_revs  f_pm_sigstrikes_a  ...  f_acu_ss_body  \\\n",
       "0     0.000000   0.000000          10.473689  ...       0.684405   \n",
       "0     0.035425   0.024242          13.726264  ...       0.629991   \n",
       "0     0.033333   0.227273           9.509091  ...       0.590909   \n",
       "\n",
       "   o_acu_ss_body  f_acu_ss_leg  o_acu_ss_leg  f_acu_ss_dist  o_acu_ss_dist  \\\n",
       "0       0.744228      0.554595      0.873359       0.351589       0.404840   \n",
       "0       0.675825      0.626267      0.775490       0.331481       0.426990   \n",
       "0       0.867580      0.928571      0.975768       0.401807       0.471556   \n",
       "\n",
       "   f_acu_ss_clinch  o_acu_ss_clinch  f_acu_ss_ground  o_acu_ss_ground  \n",
       "0         0.416385         0.750656         0.441310         0.744366  \n",
       "0         0.712775         0.625749         0.735255         0.447881  \n",
       "0         0.250000         0.883051         0.666667         0.650000  \n",
       "\n",
       "[3 rows x 75 columns]"
      ]
     },
     "execution_count": 32,
     "metadata": {},
     "output_type": "execute_result"
    }
   ],
   "source": [
    "fe_cumu_lb1.head(3)"
   ]
  },
  {
   "cell_type": "code",
   "execution_count": 33,
   "metadata": {
    "ExecuteTime": {
     "end_time": "2019-03-04T20:20:51.702606Z",
     "start_time": "2019-03-04T20:20:51.567577Z"
    }
   },
   "outputs": [
    {
     "data": {
      "text/plain": [
       "Index(['a_fighter', 'a_opponent', 'a_winner', 'date', 'f_age', 'f_height',\n",
       "       'f_pm_kds', 'f_pm_passes', 'f_pm_revs', 'f_pm_sigstrikes_a',\n",
       "       'f_pm_sigstrikes_l', 'f_pm_ss_body_a', 'f_pm_ss_body_l',\n",
       "       'f_pm_ss_clinch_a', 'f_pm_ss_clinch_l', 'f_pm_ss_dist_a',\n",
       "       'f_pm_ss_dist_l', 'f_pm_ss_ground_a', 'f_pm_ss_ground_l',\n",
       "       'f_pm_ss_head_a', 'f_pm_ss_head_l', 'f_pm_ss_leg_a', 'f_pm_ss_leg_l',\n",
       "       'f_pm_strikes_a', 'f_pm_strikes_l', 'f_pm_subs_a', 'f_pm_tds_a',\n",
       "       'f_pm_tds_l', 'f_reach', 'f_stance', 'o_age', 'o_height', 'o_pm_kds',\n",
       "       'o_pm_passes', 'o_pm_revs', 'o_pm_sigstrikes_a', 'o_pm_sigstrikes_l',\n",
       "       'o_pm_ss_body_a', 'o_pm_ss_body_l', 'o_pm_ss_clinch_a',\n",
       "       'o_pm_ss_clinch_l', 'o_pm_ss_dist_a', 'o_pm_ss_dist_l',\n",
       "       'o_pm_ss_ground_a', 'o_pm_ss_ground_l', 'o_pm_ss_head_a',\n",
       "       'o_pm_ss_head_l', 'o_pm_ss_leg_a', 'o_pm_ss_leg_l', 'o_pm_strikes_a',\n",
       "       'o_pm_strikes_l', 'o_pm_subs_a', 'o_pm_tds_a', 'o_pm_tds_l', 'o_reach',\n",
       "       'o_stance', 'result', 'f_acu_sigstrikes', 'o_acu_sigstrikes',\n",
       "       'f_acu_strikes', 'o_acu_strikes', 'f_acu_tds', 'o_acu_tds',\n",
       "       'f_acu_ss_head', 'o_acu_ss_head', 'f_acu_ss_body', 'o_acu_ss_body',\n",
       "       'f_acu_ss_leg', 'o_acu_ss_leg', 'f_acu_ss_dist', 'o_acu_ss_dist',\n",
       "       'f_acu_ss_clinch', 'o_acu_ss_clinch', 'f_acu_ss_ground',\n",
       "       'o_acu_ss_ground'],\n",
       "      dtype='object')"
      ]
     },
     "execution_count": 33,
     "metadata": {},
     "output_type": "execute_result"
    }
   ],
   "source": [
    "fe_cumu_lb1.columns"
   ]
  },
  {
   "cell_type": "markdown",
   "metadata": {},
   "source": [
    "# 7. Feature Selection? Use Johnson for reference"
   ]
  },
  {
   "cell_type": "code",
   "execution_count": null,
   "metadata": {},
   "outputs": [],
   "source": []
  }
 ],
 "metadata": {
  "kernelspec": {
   "display_name": "Python [conda env:fight_prediction]",
   "language": "python",
   "name": "conda-env-fight_prediction-py"
  },
  "language_info": {
   "codemirror_mode": {
    "name": "ipython",
    "version": 3
   },
   "file_extension": ".py",
   "mimetype": "text/x-python",
   "name": "python",
   "nbconvert_exporter": "python",
   "pygments_lexer": "ipython3",
   "version": "3.7.2"
  },
  "varInspector": {
   "cols": {
    "lenName": 16,
    "lenType": 16,
    "lenVar": 40
   },
   "kernels_config": {
    "python": {
     "delete_cmd_postfix": "",
     "delete_cmd_prefix": "del ",
     "library": "var_list.py",
     "varRefreshCmd": "print(var_dic_list())"
    },
    "r": {
     "delete_cmd_postfix": ") ",
     "delete_cmd_prefix": "rm(",
     "library": "var_list.r",
     "varRefreshCmd": "cat(var_dic_list()) "
    }
   },
   "types_to_exclude": [
    "module",
    "function",
    "builtin_function_or_method",
    "instance",
    "_Feature"
   ],
   "window_display": false
  }
 },
 "nbformat": 4,
 "nbformat_minor": 2
}
