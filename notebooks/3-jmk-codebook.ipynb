{
 "cells": [
  {
   "cell_type": "code",
   "execution_count": 1,
   "metadata": {
    "ExecuteTime": {
     "end_time": "2019-02-07T03:39:05.179003Z",
     "start_time": "2019-02-07T03:39:04.592430Z"
    }
   },
   "outputs": [
    {
     "name": "stderr",
     "output_type": "stream",
     "text": [
      "/anaconda3/envs/fight_prediction/lib/python3.6/importlib/_bootstrap.py:219: RuntimeWarning: numpy.dtype size changed, may indicate binary incompatibility. Expected 96, got 88\n",
      "  return f(*args, **kwds)\n",
      "/anaconda3/envs/fight_prediction/lib/python3.6/importlib/_bootstrap.py:219: RuntimeWarning: numpy.dtype size changed, may indicate binary incompatibility. Expected 96, got 88\n",
      "  return f(*args, **kwds)\n"
     ]
    }
   ],
   "source": [
    "import pandas as pd"
   ]
  },
  {
   "cell_type": "code",
   "execution_count": 2,
   "metadata": {
    "ExecuteTime": {
     "end_time": "2019-02-07T03:39:06.245605Z",
     "start_time": "2019-02-07T03:39:06.200281Z"
    }
   },
   "outputs": [],
   "source": [
    "stats_df = pd.read_csv(\"full_stats.csv\")"
   ]
  },
  {
   "cell_type": "code",
   "execution_count": 12,
   "metadata": {
    "ExecuteTime": {
     "end_time": "2019-02-07T03:39:54.334954Z",
     "start_time": "2019-02-07T03:39:54.331746Z"
    }
   },
   "outputs": [],
   "source": [
    "variable_ids = list(stats_df.columns)"
   ]
  },
  {
   "cell_type": "code",
   "execution_count": 14,
   "metadata": {
    "ExecuteTime": {
     "end_time": "2019-02-07T03:39:55.312131Z",
     "start_time": "2019-02-07T03:39:55.291005Z"
    }
   },
   "outputs": [
    {
     "name": "stdout",
     "output_type": "stream",
     "text": [
      "226\n"
     ]
    }
   ],
   "source": [
    "variable_labels = []\n",
    "var_to_label = {\n",
    "    \"fighter\": \"fighter\",\n",
    "    \"1\": \"1\",\n",
    "    \"2\": \"2\",\n",
    "    \"l\": \"landed\",\n",
    "    \"a\": \"attempts\",\n",
    "    \"f1\": \"fighter 1\",\n",
    "    \"f2\": \"fighter 2\",\n",
    "    \"r1\": \"round 1\",\n",
    "    \"r2\": \"round 2\",\n",
    "    \"r3\": \"round 3\",\n",
    "    \"r4\": \"round 4\",\n",
    "    \"r5\": \"round 5\",\n",
    "    \"kds\": \"knockdowns\",\n",
    "    \"sigstrikes\": \"significant strikes\",\n",
    "    \"tds\": \"takedowns\",\n",
    "    \"subs\": \"submissions\",\n",
    "    \"revs\": \"reversals\",\n",
    "    \"ss\": \"significant strikes\",\n",
    "    \"head\": \"to the head\",\n",
    "    \"body\": \"to the body\",\n",
    "    \"leg\": \"to the leg\",\n",
    "    \"distance\": \"from distance\",\n",
    "    \"clinch\": \"from clinch\",\n",
    "    \"ground\": \"from ground\"\n",
    "}\n",
    "\n",
    "for col in variable_ids:\n",
    "    col_vars = col.split(\"_\")\n",
    "    col_labels = []\n",
    "    for var in col_vars:\n",
    "        var_to_append = var_to_label[var] if var in var_to_label else var\n",
    "        col_labels.append(var_to_append)\n",
    "    label = \" \".join(col_labels)\n",
    "    variable_labels.append(label)\n",
    "\n",
    "print(len(variable_labels))\n",
    "\n",
    "    \n",
    "#     if col == \"fighter_1\":\n",
    "#         variable_labels.append(\"fighter 1\")\n",
    "#     elif col == \"fighter_2\":\n",
    "#         variable_labels.append(\"fighter 2\")\n",
    "#     elif col == \"winner\":\n",
    "#         variable_labels.append(\"winner\")\n",
    "#     elif(col[0:2] == \"f1\" or col[0:2] == \"f2\"):\n",
    "#         temp_word = col.replace(\"l\",\"landed\").replace(\"a\",\"attempts\")\n",
    "#         temp_word = temp_word.replace(\"f1\",\"fighter 1\").replace(\"f2\",\"fighter 2\")\n",
    "#         temp_word = temp_word.replace(\"r1\",\"round 1\").replace(\"r2\",\"round 2\").replace(\"r3\",\"round 3\").replace(\"r4\",\"round 4\").replace(\"r5\",\"round 5\")\n",
    "#         temp_word = temp_word.replace(\"kds\", \"knockdowns\").replace(\"sigstrikes\",\"significant strikes\")\n",
    "#         temp_word = temp_word.replace(\"tds\", \"takedowns\").replace(\"subs\",\"submissions\").replace(\"rev\",\"reversals\")\n",
    "#         temp_word = temp_word.replace(\"ss_head\",\"significant strikes to the head\").replace(\"ss_body\",\"significant strikes to the body\")\n",
    "#         temp_word = temp_word.replace(\"ss_leg\",\"significant strikes to the leg\").replace(\"ss_distance\",\"significant strikes from distance\")\n",
    "#         temp_word = temp_word.replace(\"ss_clinch\",\"significant strikes from clinch\").replace(\"ss_ground\",\"significant strikes from ground\").replace(\"_\",\" \")\n",
    "\n",
    "\n",
    "#         variable_labels.append(temp_word)\n",
    "    \n",
    "#     else:\n",
    "#         variable_labels.append(col)\n",
    "\n",
    "\n"
   ]
  },
  {
   "cell_type": "code",
   "execution_count": 15,
   "metadata": {
    "ExecuteTime": {
     "end_time": "2019-02-07T03:39:55.587357Z",
     "start_time": "2019-02-07T03:39:55.582936Z"
    }
   },
   "outputs": [],
   "source": [
    "code_book = pd.DataFrame({\"Variable IDs\":variable_ids, \"Variable Labels\": variable_labels})"
   ]
  },
  {
   "cell_type": "code",
   "execution_count": 18,
   "metadata": {
    "ExecuteTime": {
     "end_time": "2019-02-07T03:47:33.574867Z",
     "start_time": "2019-02-07T03:47:33.567679Z"
    }
   },
   "outputs": [],
   "source": [
    "code_book.to_csv(\"codebook.csv\")"
   ]
  },
  {
   "cell_type": "code",
   "execution_count": null,
   "metadata": {},
   "outputs": [],
   "source": []
  }
 ],
 "metadata": {
  "kernelspec": {
   "display_name": "Python [conda env:fight_prediction]",
   "language": "python",
   "name": "conda-env-fight_prediction-py"
  },
  "language_info": {
   "codemirror_mode": {
    "name": "ipython",
    "version": 3
   },
   "file_extension": ".py",
   "mimetype": "text/x-python",
   "name": "python",
   "nbconvert_exporter": "python",
   "pygments_lexer": "ipython3",
   "version": "3.6.6"
  },
  "varInspector": {
   "cols": {
    "lenName": 16,
    "lenType": 16,
    "lenVar": 40
   },
   "kernels_config": {
    "python": {
     "delete_cmd_postfix": "",
     "delete_cmd_prefix": "del ",
     "library": "var_list.py",
     "varRefreshCmd": "print(var_dic_list())"
    },
    "r": {
     "delete_cmd_postfix": ") ",
     "delete_cmd_prefix": "rm(",
     "library": "var_list.r",
     "varRefreshCmd": "cat(var_dic_list()) "
    }
   },
   "types_to_exclude": [
    "module",
    "function",
    "builtin_function_or_method",
    "instance",
    "_Feature"
   ],
   "window_display": false
  }
 },
 "nbformat": 4,
 "nbformat_minor": 2
}
