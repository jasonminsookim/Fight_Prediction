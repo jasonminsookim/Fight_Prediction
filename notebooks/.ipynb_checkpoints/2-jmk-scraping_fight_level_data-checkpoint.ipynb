{
 "cells": [
  {
   "cell_type": "markdown",
   "metadata": {},
   "source": [
    "# __Scrape Historical Fight Data__"
   ]
  },
  {
   "cell_type": "markdown",
   "metadata": {},
   "source": [
    "### Import Libraries"
   ]
  },
  {
   "cell_type": "code",
   "execution_count": 1,
   "metadata": {
    "ExecuteTime": {
     "end_time": "2019-02-04T01:29:18.113827Z",
     "start_time": "2019-02-04T01:29:16.892762Z"
    }
   },
   "outputs": [
    {
     "name": "stderr",
     "output_type": "stream",
     "text": [
      "/anaconda3/envs/fight_prediction/lib/python3.6/importlib/_bootstrap.py:219: RuntimeWarning: numpy.dtype size changed, may indicate binary incompatibility. Expected 96, got 88\n",
      "  return f(*args, **kwds)\n",
      "/anaconda3/envs/fight_prediction/lib/python3.6/importlib/_bootstrap.py:219: RuntimeWarning: numpy.dtype size changed, may indicate binary incompatibility. Expected 96, got 88\n",
      "  return f(*args, **kwds)\n"
     ]
    }
   ],
   "source": [
    "import requests\n",
    "import pandas as pd\n",
    "import string\n",
    "import IPython\n",
    "import time\n",
    "from bs4 import BeautifulSoup\n",
    "from pandas.plotting import scatter_matrix\n",
    "import os \n",
    "import re\n",
    "from dateutil import parser\n",
    "\n",
    "%matplotlib inline"
   ]
  },
  {
   "cell_type": "markdown",
   "metadata": {},
   "source": [
    "### Get links for each UFC event"
   ]
  },
  {
   "cell_type": "code",
   "execution_count": 2,
   "metadata": {
    "ExecuteTime": {
     "end_time": "2019-02-04T01:29:21.113977Z",
     "start_time": "2019-02-04T01:29:18.984980Z"
    }
   },
   "outputs": [],
   "source": [
    "all_events_url = \"http://ufcstats.com/statistics/events/completed?page=all\"\n",
    "all_events_page = requests.get(all_events_url)\n",
    "all_events_soup = BeautifulSoup(all_events_page.content, 'html.parser')"
   ]
  },
  {
   "cell_type": "code",
   "execution_count": 3,
   "metadata": {
    "ExecuteTime": {
     "end_time": "2019-02-04T01:29:22.655673Z",
     "start_time": "2019-02-04T01:29:22.644207Z"
    }
   },
   "outputs": [
    {
     "data": {
      "text/plain": [
       "<a class=\"b-link b-link_style_white\" href=\"http://ufcstats.com/event-details/b5882371e2a3900d\">\n",
       "                          UFC 234: Whittaker vs. Gastelum\n",
       "                        </a>"
      ]
     },
     "execution_count": 3,
     "metadata": {},
     "output_type": "execute_result"
    }
   ],
   "source": [
    "table = all_events_soup.find('table')\n",
    "events = table.findAll('a')\n",
    "# Pop the first link because it is for the next UFC event\n",
    "events.pop(0)"
   ]
  },
  {
   "cell_type": "markdown",
   "metadata": {},
   "source": [
    "### Get links for each fight"
   ]
  },
  {
   "cell_type": "code",
   "execution_count": 8,
   "metadata": {
    "ExecuteTime": {
     "end_time": "2019-02-04T01:33:11.948863Z",
     "start_time": "2019-02-04T01:32:23.040246Z"
    }
   },
   "outputs": [
    {
     "name": "stdout",
     "output_type": "stream",
     "text": [
      "DO SOMETHING\n",
      "DO SOMETHING\n",
      "DO SOMETHING\n",
      "DO SOMETHING\n",
      "DO SOMETHING\n",
      "DO SOMETHING\n",
      "DO SOMETHING\n",
      "DO SOMETHING\n",
      "DO SOMETHING\n",
      "DO SOMETHING\n",
      "DO SOMETHING\n",
      "DO SOMETHING\n",
      "DO SOMETHING\n",
      "DO SOMETHING\n",
      "DO SOMETHING\n",
      "DO SOMETHING\n",
      "DO SOMETHING\n",
      "DO SOMETHING\n",
      "DO SOMETHING\n",
      "DO SOMETHING\n",
      "DO SOMETHING\n",
      "DO SOMETHING\n",
      "DO SOMETHING\n",
      "DO SOMETHING\n",
      "DO SOMETHING\n",
      "DO SOMETHING\n",
      "DO SOMETHING\n",
      "DO SOMETHING\n",
      "DO SOMETHING\n",
      "DO SOMETHING\n",
      "DO SOMETHING\n",
      "DO SOMETHING\n",
      "DO SOMETHING\n",
      "DO SOMETHING\n",
      "DO SOMETHING\n",
      "DO SOMETHING\n",
      "DO SOMETHING\n",
      "DO SOMETHING\n",
      "DO SOMETHING\n",
      "DO SOMETHING\n",
      "DO SOMETHING\n",
      "DO SOMETHING\n",
      "DO SOMETHING\n",
      "DO SOMETHING\n",
      "DO SOMETHING\n",
      "DO SOMETHING\n",
      "DO SOMETHING\n",
      "DO SOMETHING\n",
      "DO SOMETHING\n",
      "DO SOMETHING\n",
      "DO SOMETHING\n",
      "DO SOMETHING\n",
      "CPU times: user 2.79 s, sys: 103 ms, total: 2.89 s\n",
      "Wall time: 48.9 s\n"
     ]
    }
   ],
   "source": [
    "%%time\n",
    "# Create empty lists to input data\n",
    "winners = []\n",
    "losers = []\n",
    "dates = []\n",
    "fight_urls = []\n",
    "\n",
    "page_count = 0\n",
    "\n",
    "num_errors = 0\n",
    "for event in events:\n",
    "    try:\n",
    "        # Setup  url, page, and soup for EVENT\n",
    "        event_url = event['href']\n",
    "        event_page = requests.get(event_url)\n",
    "        event_soup = BeautifulSoup(event_page.content, 'html.parser')\n",
    "        \n",
    "        # Extract date\n",
    "        date_text = event_soup.find(\"li\",{\"class\":\"b-list__box-list-item\"}).text.strip().strip(\"Date:\").strip(\"\\n\").strip()\n",
    "        date = parser.parse(date_text)\n",
    "        \n",
    "        # Parse table for statistics\n",
    "        table = event_soup.find('table')\n",
    "        rows = table.findAll('tr',onclick=True)\n",
    "        for row in rows:\n",
    "            # Setup FIGHT url, page, and soup for FIGHT\n",
    "            fight_url = row['onclick'][7:-2]\n",
    "            fight_page = requests.get(fight_url)\n",
    "            fight_soup = BeautifulSoup(fight_page.content, 'html.parser')\n",
    "            \n",
    "            # Scraper winners and losers\n",
    "            section = fight_soup.findAll(\"div\",{\"class\":\"b-fight-details__person\"})\n",
    "            for fighter in section:\n",
    "                if(fighter.text.strip()[0] == \"W\"):\n",
    "                    winner = ' '.join(section[0].text.replace('\\n','').strip().split()[1:])\n",
    "        \n",
    "                elif fighter.text.strip()[0] == \"L\":\n",
    "                    loser = ' '.join(section[0].text.replace('\\n','').strip().split()[1:])\n",
    "            \n",
    "            # Append data to lists\n",
    "            winners.append(winner)\n",
    "            losers.append(loser)\n",
    "            fight_urls.append(fight_url)\n",
    "            dates.append(date)\n",
    "    except:\n",
    "        num_errors += 1\n",
    "        print(\"There are \" + num_errors)\n",
    "        \n",
    "    page_count +=1\n",
    "    \n",
    "    if page_count == 2:\n",
    "        break"
   ]
  },
  {
   "cell_type": "code",
   "execution_count": 10,
   "metadata": {
    "ExecuteTime": {
     "end_time": "2019-02-04T01:33:19.684136Z",
     "start_time": "2019-02-04T01:33:19.673257Z"
    }
   },
   "outputs": [
    {
     "data": {
      "text/plain": [
       "[]"
      ]
     },
     "execution_count": 10,
     "metadata": {},
     "output_type": "execute_result"
    }
   ],
   "source": [
    "winners"
   ]
  },
  {
   "cell_type": "code",
   "execution_count": 31,
   "metadata": {
    "ExecuteTime": {
     "end_time": "2019-02-04T01:22:46.329346Z",
     "start_time": "2019-02-04T01:22:46.308324Z"
    }
   },
   "outputs": [
    {
     "ename": "ValueError",
     "evalue": "arrays must all be same length",
     "output_type": "error",
     "traceback": [
      "\u001b[0;31m---------------------------------------------------------------------------\u001b[0m",
      "\u001b[0;31mValueError\u001b[0m                                Traceback (most recent call last)",
      "\u001b[0;32m<ipython-input-31-d382e4364fd0>\u001b[0m in \u001b[0;36m<module>\u001b[0;34m()\u001b[0m\n\u001b[1;32m      2\u001b[0m                            \u001b[0;34m'loser'\u001b[0m\u001b[0;34m:\u001b[0m\u001b[0mlosers\u001b[0m\u001b[0;34m,\u001b[0m\u001b[0;34m\u001b[0m\u001b[0m\n\u001b[1;32m      3\u001b[0m                            \u001b[0;34m'url'\u001b[0m\u001b[0;34m:\u001b[0m \u001b[0mfight_urls\u001b[0m\u001b[0;34m,\u001b[0m\u001b[0;34m\u001b[0m\u001b[0m\n\u001b[0;32m----> 4\u001b[0;31m                           'date': dates})\n\u001b[0m\u001b[1;32m      5\u001b[0m \u001b[0mfight_data\u001b[0m\u001b[0;34m\u001b[0m\u001b[0m\n",
      "\u001b[0;32m/anaconda3/envs/fight_prediction/lib/python3.6/site-packages/pandas/core/frame.py\u001b[0m in \u001b[0;36m__init__\u001b[0;34m(self, data, index, columns, dtype, copy)\u001b[0m\n\u001b[1;32m    346\u001b[0m                                  dtype=dtype, copy=copy)\n\u001b[1;32m    347\u001b[0m         \u001b[0;32melif\u001b[0m \u001b[0misinstance\u001b[0m\u001b[0;34m(\u001b[0m\u001b[0mdata\u001b[0m\u001b[0;34m,\u001b[0m \u001b[0mdict\u001b[0m\u001b[0;34m)\u001b[0m\u001b[0;34m:\u001b[0m\u001b[0;34m\u001b[0m\u001b[0m\n\u001b[0;32m--> 348\u001b[0;31m             \u001b[0mmgr\u001b[0m \u001b[0;34m=\u001b[0m \u001b[0mself\u001b[0m\u001b[0;34m.\u001b[0m\u001b[0m_init_dict\u001b[0m\u001b[0;34m(\u001b[0m\u001b[0mdata\u001b[0m\u001b[0;34m,\u001b[0m \u001b[0mindex\u001b[0m\u001b[0;34m,\u001b[0m \u001b[0mcolumns\u001b[0m\u001b[0;34m,\u001b[0m \u001b[0mdtype\u001b[0m\u001b[0;34m=\u001b[0m\u001b[0mdtype\u001b[0m\u001b[0;34m)\u001b[0m\u001b[0;34m\u001b[0m\u001b[0m\n\u001b[0m\u001b[1;32m    349\u001b[0m         \u001b[0;32melif\u001b[0m \u001b[0misinstance\u001b[0m\u001b[0;34m(\u001b[0m\u001b[0mdata\u001b[0m\u001b[0;34m,\u001b[0m \u001b[0mma\u001b[0m\u001b[0;34m.\u001b[0m\u001b[0mMaskedArray\u001b[0m\u001b[0;34m)\u001b[0m\u001b[0;34m:\u001b[0m\u001b[0;34m\u001b[0m\u001b[0m\n\u001b[1;32m    350\u001b[0m             \u001b[0;32mimport\u001b[0m \u001b[0mnumpy\u001b[0m\u001b[0;34m.\u001b[0m\u001b[0mma\u001b[0m\u001b[0;34m.\u001b[0m\u001b[0mmrecords\u001b[0m \u001b[0;32mas\u001b[0m \u001b[0mmrecords\u001b[0m\u001b[0;34m\u001b[0m\u001b[0m\n",
      "\u001b[0;32m/anaconda3/envs/fight_prediction/lib/python3.6/site-packages/pandas/core/frame.py\u001b[0m in \u001b[0;36m_init_dict\u001b[0;34m(self, data, index, columns, dtype)\u001b[0m\n\u001b[1;32m    457\u001b[0m             \u001b[0marrays\u001b[0m \u001b[0;34m=\u001b[0m \u001b[0;34m[\u001b[0m\u001b[0mdata\u001b[0m\u001b[0;34m[\u001b[0m\u001b[0mk\u001b[0m\u001b[0;34m]\u001b[0m \u001b[0;32mfor\u001b[0m \u001b[0mk\u001b[0m \u001b[0;32min\u001b[0m \u001b[0mkeys\u001b[0m\u001b[0;34m]\u001b[0m\u001b[0;34m\u001b[0m\u001b[0m\n\u001b[1;32m    458\u001b[0m \u001b[0;34m\u001b[0m\u001b[0m\n\u001b[0;32m--> 459\u001b[0;31m         \u001b[0;32mreturn\u001b[0m \u001b[0m_arrays_to_mgr\u001b[0m\u001b[0;34m(\u001b[0m\u001b[0marrays\u001b[0m\u001b[0;34m,\u001b[0m \u001b[0mdata_names\u001b[0m\u001b[0;34m,\u001b[0m \u001b[0mindex\u001b[0m\u001b[0;34m,\u001b[0m \u001b[0mcolumns\u001b[0m\u001b[0;34m,\u001b[0m \u001b[0mdtype\u001b[0m\u001b[0;34m=\u001b[0m\u001b[0mdtype\u001b[0m\u001b[0;34m)\u001b[0m\u001b[0;34m\u001b[0m\u001b[0m\n\u001b[0m\u001b[1;32m    460\u001b[0m \u001b[0;34m\u001b[0m\u001b[0m\n\u001b[1;32m    461\u001b[0m     \u001b[0;32mdef\u001b[0m \u001b[0m_init_ndarray\u001b[0m\u001b[0;34m(\u001b[0m\u001b[0mself\u001b[0m\u001b[0;34m,\u001b[0m \u001b[0mvalues\u001b[0m\u001b[0;34m,\u001b[0m \u001b[0mindex\u001b[0m\u001b[0;34m,\u001b[0m \u001b[0mcolumns\u001b[0m\u001b[0;34m,\u001b[0m \u001b[0mdtype\u001b[0m\u001b[0;34m=\u001b[0m\u001b[0;32mNone\u001b[0m\u001b[0;34m,\u001b[0m \u001b[0mcopy\u001b[0m\u001b[0;34m=\u001b[0m\u001b[0;32mFalse\u001b[0m\u001b[0;34m)\u001b[0m\u001b[0;34m:\u001b[0m\u001b[0;34m\u001b[0m\u001b[0m\n",
      "\u001b[0;32m/anaconda3/envs/fight_prediction/lib/python3.6/site-packages/pandas/core/frame.py\u001b[0m in \u001b[0;36m_arrays_to_mgr\u001b[0;34m(arrays, arr_names, index, columns, dtype)\u001b[0m\n\u001b[1;32m   7354\u001b[0m     \u001b[0;31m# figure out the index, if necessary\u001b[0m\u001b[0;34m\u001b[0m\u001b[0;34m\u001b[0m\u001b[0m\n\u001b[1;32m   7355\u001b[0m     \u001b[0;32mif\u001b[0m \u001b[0mindex\u001b[0m \u001b[0;32mis\u001b[0m \u001b[0;32mNone\u001b[0m\u001b[0;34m:\u001b[0m\u001b[0;34m\u001b[0m\u001b[0m\n\u001b[0;32m-> 7356\u001b[0;31m         \u001b[0mindex\u001b[0m \u001b[0;34m=\u001b[0m \u001b[0mextract_index\u001b[0m\u001b[0;34m(\u001b[0m\u001b[0marrays\u001b[0m\u001b[0;34m)\u001b[0m\u001b[0;34m\u001b[0m\u001b[0m\n\u001b[0m\u001b[1;32m   7357\u001b[0m \u001b[0;34m\u001b[0m\u001b[0m\n\u001b[1;32m   7358\u001b[0m     \u001b[0;31m# don't force copy because getting jammed in an ndarray anyway\u001b[0m\u001b[0;34m\u001b[0m\u001b[0;34m\u001b[0m\u001b[0m\n",
      "\u001b[0;32m/anaconda3/envs/fight_prediction/lib/python3.6/site-packages/pandas/core/frame.py\u001b[0m in \u001b[0;36mextract_index\u001b[0;34m(data)\u001b[0m\n\u001b[1;32m   7400\u001b[0m             \u001b[0mlengths\u001b[0m \u001b[0;34m=\u001b[0m \u001b[0mlist\u001b[0m\u001b[0;34m(\u001b[0m\u001b[0mset\u001b[0m\u001b[0;34m(\u001b[0m\u001b[0mraw_lengths\u001b[0m\u001b[0;34m)\u001b[0m\u001b[0;34m)\u001b[0m\u001b[0;34m\u001b[0m\u001b[0m\n\u001b[1;32m   7401\u001b[0m             \u001b[0;32mif\u001b[0m \u001b[0mlen\u001b[0m\u001b[0;34m(\u001b[0m\u001b[0mlengths\u001b[0m\u001b[0;34m)\u001b[0m \u001b[0;34m>\u001b[0m \u001b[0;36m1\u001b[0m\u001b[0;34m:\u001b[0m\u001b[0;34m\u001b[0m\u001b[0m\n\u001b[0;32m-> 7402\u001b[0;31m                 \u001b[0;32mraise\u001b[0m \u001b[0mValueError\u001b[0m\u001b[0;34m(\u001b[0m\u001b[0;34m'arrays must all be same length'\u001b[0m\u001b[0;34m)\u001b[0m\u001b[0;34m\u001b[0m\u001b[0m\n\u001b[0m\u001b[1;32m   7403\u001b[0m \u001b[0;34m\u001b[0m\u001b[0m\n\u001b[1;32m   7404\u001b[0m             \u001b[0;32mif\u001b[0m \u001b[0mhave_dicts\u001b[0m\u001b[0;34m:\u001b[0m\u001b[0;34m\u001b[0m\u001b[0m\n",
      "\u001b[0;31mValueError\u001b[0m: arrays must all be same length"
     ]
    }
   ],
   "source": [
    "fight_data = pd.DataFrame({'winner':winners,\n",
    "                           'loser':losers,\n",
    "                           'url': fight_urls,\n",
    "                          'date': dates})\n",
    "fight_data"
   ]
  },
  {
   "cell_type": "markdown",
   "metadata": {},
   "source": [
    "## Testing for Event Page"
   ]
  },
  {
   "cell_type": "code",
   "execution_count": 75,
   "metadata": {
    "ExecuteTime": {
     "end_time": "2019-02-04T00:31:02.258077Z",
     "start_time": "2019-02-04T00:31:01.139692Z"
    }
   },
   "outputs": [],
   "source": [
    "te_url = 'http://ufcstats.com/event-details/84283233ec42be5f'\n",
    "te_page = requests.get(te_url)\n",
    "te_soup = BeautifulSoup(te_page.content, 'html.parser')\n",
    "\n",
    "text = te_soup.find(\"li\",{\"class\":\"b-list__box-list-item\"}).text.strip().strip(\"Date:\").strip(\"\\n\").strip()"
   ]
  },
  {
   "cell_type": "code",
   "execution_count": 78,
   "metadata": {
    "ExecuteTime": {
     "end_time": "2019-02-04T00:31:37.480323Z",
     "start_time": "2019-02-04T00:31:37.472733Z"
    }
   },
   "outputs": [
    {
     "data": {
      "text/plain": [
       "'February 02, 2019'"
      ]
     },
     "execution_count": 78,
     "metadata": {},
     "output_type": "execute_result"
    }
   ],
   "source": [
    "text"
   ]
  },
  {
   "cell_type": "code",
   "execution_count": 79,
   "metadata": {
    "ExecuteTime": {
     "end_time": "2019-02-04T00:31:39.482907Z",
     "start_time": "2019-02-04T00:31:39.473901Z"
    }
   },
   "outputs": [
    {
     "data": {
      "text/plain": [
       "datetime.datetime(2019, 2, 2, 0, 0)"
      ]
     },
     "execution_count": 79,
     "metadata": {},
     "output_type": "execute_result"
    }
   ],
   "source": [
    "parser.parse(text)"
   ]
  },
  {
   "cell_type": "markdown",
   "metadata": {},
   "source": [
    "### Testing for Fight Page"
   ]
  },
  {
   "cell_type": "code",
   "execution_count": 41,
   "metadata": {
    "ExecuteTime": {
     "end_time": "2019-02-04T01:27:45.419170Z",
     "start_time": "2019-02-04T01:27:44.529780Z"
    }
   },
   "outputs": [
    {
     "data": {
      "text/plain": [
       "[<div class=\"b-fight-details__person\">\n",
       " <i class=\"b-fight-details__person-status b-fight-details__person-status_style_green\">\n",
       "     W\n",
       "   </i>\n",
       " <div class=\"b-fight-details__person-text\">\n",
       " <h3 class=\"b-fight-details__person-name\">\n",
       " <a href=\"http://ufcstats.com/fighter-details/82cbb809d5ee565c\" style=\"color:#B10101\">Mara Romero Borella </a>\n",
       " </h3>\n",
       " <p class=\"b-fight-details__person-title\">\n",
       "       \"Kunoichici\"\n",
       "     </p>\n",
       " </div>\n",
       " </div>, <div class=\"b-fight-details__person\">\n",
       " <i class=\"b-fight-details__person-status b-fight-details__person-status_style_gray\">\n",
       "     L\n",
       "   </i>\n",
       " <div class=\"b-fight-details__person-text\">\n",
       " <h3 class=\"b-fight-details__person-name\">\n",
       " <a href=\"http://ufcstats.com/fighter-details/f7467152fd9f18a2\" style=\"color:#B10101\">Taila Santos </a>\n",
       " </h3>\n",
       " <p class=\"b-fight-details__person-title\">\n",
       " </p>\n",
       " </div>\n",
       " </div>]"
      ]
     },
     "execution_count": 41,
     "metadata": {},
     "output_type": "execute_result"
    }
   ],
   "source": [
    "tf_url = 'http://ufcstats.com/fight-details/904e0e46392dff93'\n",
    "tf_page = requests.get(tf_url)\n",
    "tf_soup = BeautifulSoup(tf_page.content,'html.parser')\n",
    "\n",
    "section = tf_soup.findAll(\"div\",{\"class\":\"b-fight-details__person\"})\n",
    "section"
   ]
  },
  {
   "cell_type": "code",
   "execution_count": 40,
   "metadata": {
    "ExecuteTime": {
     "end_time": "2019-02-04T01:27:33.625834Z",
     "start_time": "2019-02-04T01:27:33.621043Z"
    }
   },
   "outputs": [],
   "source": [
    "for fighter in section:\n",
    "    if(fighter.text.strip()[0] == \"W\"):\n",
    "        winner = ' '.join(section[0].text.replace('\\n','').strip().split()[1:])\n",
    "        \n",
    "    if(fighter.text.strip()[0] == \"L\"):\n",
    "        loser = ' '.join(section[0].text.replace('\\n','').strip().split()[1:])"
   ]
  },
  {
   "cell_type": "code",
   "execution_count": 27,
   "metadata": {
    "ExecuteTime": {
     "end_time": "2019-02-04T01:18:28.173908Z",
     "start_time": "2019-02-04T01:18:28.167597Z"
    }
   },
   "outputs": [
    {
     "data": {
      "text/plain": [
       "'Mara Romero Borella \"Kunoichici\"'"
      ]
     },
     "execution_count": 27,
     "metadata": {},
     "output_type": "execute_result"
    }
   ],
   "source": [
    "winner"
   ]
  },
  {
   "cell_type": "code",
   "execution_count": null,
   "metadata": {},
   "outputs": [],
   "source": []
  }
 ],
 "metadata": {
  "kernelspec": {
   "display_name": "Python [conda env:fight_prediction]",
   "language": "python",
   "name": "conda-env-fight_prediction-py"
  },
  "language_info": {
   "codemirror_mode": {
    "name": "ipython",
    "version": 3
   },
   "file_extension": ".py",
   "mimetype": "text/x-python",
   "name": "python",
   "nbconvert_exporter": "python",
   "pygments_lexer": "ipython3",
   "version": "3.6.6"
  },
  "varInspector": {
   "cols": {
    "lenName": 16,
    "lenType": 16,
    "lenVar": 40
   },
   "kernels_config": {
    "python": {
     "delete_cmd_postfix": "",
     "delete_cmd_prefix": "del ",
     "library": "var_list.py",
     "varRefreshCmd": "print(var_dic_list())"
    },
    "r": {
     "delete_cmd_postfix": ") ",
     "delete_cmd_prefix": "rm(",
     "library": "var_list.r",
     "varRefreshCmd": "cat(var_dic_list()) "
    }
   },
   "types_to_exclude": [
    "module",
    "function",
    "builtin_function_or_method",
    "instance",
    "_Feature"
   ],
   "window_display": false
  }
 },
 "nbformat": 4,
 "nbformat_minor": 2
}
