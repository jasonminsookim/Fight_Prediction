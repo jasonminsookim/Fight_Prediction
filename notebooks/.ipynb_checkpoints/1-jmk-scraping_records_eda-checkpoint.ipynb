{
 "cells": [
  {
   "cell_type": "markdown",
   "metadata": {},
   "source": [
    "# __Scrape Fight Records from fightmetric.com__"
   ]
  },
  {
   "cell_type": "markdown",
   "metadata": {},
   "source": [
    "## Libraries"
   ]
  },
  {
   "cell_type": "code",
   "execution_count": 1,
   "metadata": {
    "ExecuteTime": {
     "end_time": "2019-01-14T22:58:50.715977Z",
     "start_time": "2019-01-14T22:58:50.228145Z"
    }
   },
   "outputs": [
    {
     "name": "stderr",
     "output_type": "stream",
     "text": [
      "/anaconda3/envs/fight_prediction/lib/python3.6/importlib/_bootstrap.py:219: RuntimeWarning: numpy.dtype size changed, may indicate binary incompatibility. Expected 96, got 88\n",
      "  return f(*args, **kwds)\n"
     ]
    }
   ],
   "source": [
    "%matplotlib inline\n",
    "\n",
    "import requests\n",
    "import pandas as pd\n",
    "import string\n",
    "import time\n",
    "from bs4 import BeautifulSoup\n",
    "from pandas.plotting import scatter_matrix\n",
    "import os "
   ]
  },
  {
   "cell_type": "markdown",
   "metadata": {},
   "source": [
    "## Url Setup"
   ]
  },
  {
   "cell_type": "code",
   "execution_count": 2,
   "metadata": {
    "ExecuteTime": {
     "end_time": "2019-01-14T22:58:51.051871Z",
     "start_time": "2019-01-14T22:58:51.048269Z"
    }
   },
   "outputs": [],
   "source": [
    "page_link_part1 = \"http://www.fightmetric.com/statistics/fighters?char=\"\n",
    "page_link_part2 = \"&page=all\""
   ]
  },
  {
   "cell_type": "markdown",
   "metadata": {},
   "source": [
    "## Loop Through Each Character/Table "
   ]
  },
  {
   "cell_type": "code",
   "execution_count": 3,
   "metadata": {
    "ExecuteTime": {
     "end_time": "2019-01-14T23:00:10.341669Z",
     "start_time": "2019-01-14T22:58:51.659020Z"
    }
   },
   "outputs": [],
   "source": [
    "# Create a list of dataframes to concat later\n",
    "dfs_r = []\n",
    "\n",
    "# List of lowercase alphabet\n",
    "all_chars = string.ascii_lowercase\n",
    "\n",
    "# Loop though each character\n",
    "for char in all_chars:\n",
    "    url = page_link_part1 + char + page_link_part2\n",
    "    table = pd.read_html(url)[0]\n",
    "    dfs_r.append(table)\n",
    "    time.sleep(1)\n"
   ]
  },
  {
   "cell_type": "markdown",
   "metadata": {},
   "source": [
    "## Concat dfs"
   ]
  },
  {
   "cell_type": "code",
   "execution_count": 4,
   "metadata": {
    "ExecuteTime": {
     "end_time": "2019-01-14T23:00:13.801066Z",
     "start_time": "2019-01-14T23:00:13.769911Z"
    },
    "scrolled": true
   },
   "outputs": [
    {
     "data": {
      "text/html": [
       "<div>\n",
       "<style scoped>\n",
       "    .dataframe tbody tr th:only-of-type {\n",
       "        vertical-align: middle;\n",
       "    }\n",
       "\n",
       "    .dataframe tbody tr th {\n",
       "        vertical-align: top;\n",
       "    }\n",
       "\n",
       "    .dataframe thead th {\n",
       "        text-align: right;\n",
       "    }\n",
       "</style>\n",
       "<table border=\"1\" class=\"dataframe\">\n",
       "  <thead>\n",
       "    <tr style=\"text-align: right;\">\n",
       "      <th></th>\n",
       "      <th>First</th>\n",
       "      <th>Last</th>\n",
       "      <th>Nickname</th>\n",
       "      <th>Ht.</th>\n",
       "      <th>Wt.</th>\n",
       "      <th>Reach</th>\n",
       "      <th>Stance</th>\n",
       "      <th>W</th>\n",
       "      <th>L</th>\n",
       "      <th>D</th>\n",
       "      <th>Belt</th>\n",
       "    </tr>\n",
       "  </thead>\n",
       "  <tbody>\n",
       "    <tr>\n",
       "      <th>1</th>\n",
       "      <td>Tom</td>\n",
       "      <td>Aaron</td>\n",
       "      <td>NaN</td>\n",
       "      <td>--</td>\n",
       "      <td>155 lbs.</td>\n",
       "      <td>--</td>\n",
       "      <td>NaN</td>\n",
       "      <td>5.0</td>\n",
       "      <td>3.0</td>\n",
       "      <td>0.0</td>\n",
       "      <td>NaN</td>\n",
       "    </tr>\n",
       "    <tr>\n",
       "      <th>2</th>\n",
       "      <td>Danny</td>\n",
       "      <td>Abbadi</td>\n",
       "      <td>The Assassin</td>\n",
       "      <td>5' 11\"</td>\n",
       "      <td>155 lbs.</td>\n",
       "      <td>--</td>\n",
       "      <td>Orthodox</td>\n",
       "      <td>4.0</td>\n",
       "      <td>6.0</td>\n",
       "      <td>0.0</td>\n",
       "      <td>NaN</td>\n",
       "    </tr>\n",
       "    <tr>\n",
       "      <th>3</th>\n",
       "      <td>David</td>\n",
       "      <td>Abbott</td>\n",
       "      <td>Tank</td>\n",
       "      <td>6' 0\"</td>\n",
       "      <td>265 lbs.</td>\n",
       "      <td>--</td>\n",
       "      <td>Switch</td>\n",
       "      <td>10.0</td>\n",
       "      <td>14.0</td>\n",
       "      <td>0.0</td>\n",
       "      <td>NaN</td>\n",
       "    </tr>\n",
       "    <tr>\n",
       "      <th>4</th>\n",
       "      <td>Shamil</td>\n",
       "      <td>Abdurakhimov</td>\n",
       "      <td>Abrek</td>\n",
       "      <td>6' 3\"</td>\n",
       "      <td>235 lbs.</td>\n",
       "      <td>76.0\"</td>\n",
       "      <td>Orthodox</td>\n",
       "      <td>19.0</td>\n",
       "      <td>4.0</td>\n",
       "      <td>0.0</td>\n",
       "      <td>NaN</td>\n",
       "    </tr>\n",
       "    <tr>\n",
       "      <th>5</th>\n",
       "      <td>Hiroyuki</td>\n",
       "      <td>Abe</td>\n",
       "      <td>Abe Ani</td>\n",
       "      <td>5' 6\"</td>\n",
       "      <td>145 lbs.</td>\n",
       "      <td>--</td>\n",
       "      <td>Orthodox</td>\n",
       "      <td>8.0</td>\n",
       "      <td>14.0</td>\n",
       "      <td>3.0</td>\n",
       "      <td>NaN</td>\n",
       "    </tr>\n",
       "  </tbody>\n",
       "</table>\n",
       "</div>"
      ],
      "text/plain": [
       "      First          Last      Nickname     Ht.       Wt.  Reach    Stance  \\\n",
       "1       Tom         Aaron           NaN      --  155 lbs.     --       NaN   \n",
       "2     Danny        Abbadi  The Assassin  5' 11\"  155 lbs.     --  Orthodox   \n",
       "3     David        Abbott          Tank   6' 0\"  265 lbs.     --    Switch   \n",
       "4    Shamil  Abdurakhimov         Abrek   6' 3\"  235 lbs.  76.0\"  Orthodox   \n",
       "5  Hiroyuki           Abe       Abe Ani   5' 6\"  145 lbs.     --  Orthodox   \n",
       "\n",
       "      W     L    D  Belt  \n",
       "1   5.0   3.0  0.0   NaN  \n",
       "2   4.0   6.0  0.0   NaN  \n",
       "3  10.0  14.0  0.0   NaN  \n",
       "4  19.0   4.0  0.0   NaN  \n",
       "5   8.0  14.0  3.0   NaN  "
      ]
     },
     "execution_count": 4,
     "metadata": {},
     "output_type": "execute_result"
    }
   ],
   "source": [
    "df_r = pd.concat(dfs_r)\n",
    "\n",
    "# Drops rows that have NaN values for all columns\n",
    "df_r = df_r.dropna(axis=0,how=\"all\")\n",
    "\n",
    "df_r.head()"
   ]
  },
  {
   "cell_type": "markdown",
   "metadata": {},
   "source": [
    "## Data Wrangling"
   ]
  },
  {
   "cell_type": "code",
   "execution_count": 5,
   "metadata": {
    "ExecuteTime": {
     "end_time": "2019-01-14T23:00:15.610061Z",
     "start_time": "2019-01-14T23:00:15.599949Z"
    }
   },
   "outputs": [
    {
     "data": {
      "text/plain": [
       "First        object\n",
       "Last         object\n",
       "Nickname     object\n",
       "Ht.          object\n",
       "Wt.          object\n",
       "Reach        object\n",
       "Stance       object\n",
       "W           float64\n",
       "L           float64\n",
       "D           float64\n",
       "Belt        float64\n",
       "dtype: object"
      ]
     },
     "execution_count": 5,
     "metadata": {},
     "output_type": "execute_result"
    }
   ],
   "source": [
    "df_r.dtypes"
   ]
  },
  {
   "cell_type": "code",
   "execution_count": 6,
   "metadata": {
    "ExecuteTime": {
     "end_time": "2019-01-14T23:00:18.790383Z",
     "start_time": "2019-01-14T23:00:18.594965Z"
    }
   },
   "outputs": [
    {
     "data": {
      "text/html": [
       "<div>\n",
       "<style scoped>\n",
       "    .dataframe tbody tr th:only-of-type {\n",
       "        vertical-align: middle;\n",
       "    }\n",
       "\n",
       "    .dataframe tbody tr th {\n",
       "        vertical-align: top;\n",
       "    }\n",
       "\n",
       "    .dataframe thead th {\n",
       "        text-align: right;\n",
       "    }\n",
       "</style>\n",
       "<table border=\"1\" class=\"dataframe\">\n",
       "  <thead>\n",
       "    <tr style=\"text-align: right;\">\n",
       "      <th></th>\n",
       "      <th>First</th>\n",
       "      <th>Last</th>\n",
       "      <th>Nickname</th>\n",
       "      <th>Ht.</th>\n",
       "      <th>Wt.</th>\n",
       "      <th>Reach</th>\n",
       "      <th>Stance</th>\n",
       "      <th>W</th>\n",
       "      <th>L</th>\n",
       "      <th>D</th>\n",
       "      <th>Belt</th>\n",
       "    </tr>\n",
       "  </thead>\n",
       "  <tbody>\n",
       "    <tr>\n",
       "      <th>1</th>\n",
       "      <td>Tom</td>\n",
       "      <td>Aaron</td>\n",
       "      <td>NaN</td>\n",
       "      <td>NaN</td>\n",
       "      <td>155</td>\n",
       "      <td>--</td>\n",
       "      <td>NaN</td>\n",
       "      <td>5.0</td>\n",
       "      <td>3.0</td>\n",
       "      <td>0.0</td>\n",
       "      <td>NaN</td>\n",
       "    </tr>\n",
       "    <tr>\n",
       "      <th>2</th>\n",
       "      <td>Danny</td>\n",
       "      <td>Abbadi</td>\n",
       "      <td>The Assassin</td>\n",
       "      <td>71.0</td>\n",
       "      <td>155</td>\n",
       "      <td>--</td>\n",
       "      <td>Orthodox</td>\n",
       "      <td>4.0</td>\n",
       "      <td>6.0</td>\n",
       "      <td>0.0</td>\n",
       "      <td>NaN</td>\n",
       "    </tr>\n",
       "    <tr>\n",
       "      <th>3</th>\n",
       "      <td>David</td>\n",
       "      <td>Abbott</td>\n",
       "      <td>Tank</td>\n",
       "      <td>72.0</td>\n",
       "      <td>265</td>\n",
       "      <td>--</td>\n",
       "      <td>Switch</td>\n",
       "      <td>10.0</td>\n",
       "      <td>14.0</td>\n",
       "      <td>0.0</td>\n",
       "      <td>NaN</td>\n",
       "    </tr>\n",
       "    <tr>\n",
       "      <th>4</th>\n",
       "      <td>Shamil</td>\n",
       "      <td>Abdurakhimov</td>\n",
       "      <td>Abrek</td>\n",
       "      <td>75.0</td>\n",
       "      <td>235</td>\n",
       "      <td>76.0</td>\n",
       "      <td>Orthodox</td>\n",
       "      <td>19.0</td>\n",
       "      <td>4.0</td>\n",
       "      <td>0.0</td>\n",
       "      <td>NaN</td>\n",
       "    </tr>\n",
       "    <tr>\n",
       "      <th>5</th>\n",
       "      <td>Hiroyuki</td>\n",
       "      <td>Abe</td>\n",
       "      <td>Abe Ani</td>\n",
       "      <td>66.0</td>\n",
       "      <td>145</td>\n",
       "      <td>--</td>\n",
       "      <td>Orthodox</td>\n",
       "      <td>8.0</td>\n",
       "      <td>14.0</td>\n",
       "      <td>3.0</td>\n",
       "      <td>NaN</td>\n",
       "    </tr>\n",
       "  </tbody>\n",
       "</table>\n",
       "</div>"
      ],
      "text/plain": [
       "      First          Last      Nickname   Ht.  Wt. Reach    Stance     W  \\\n",
       "1       Tom         Aaron           NaN   NaN  155    --       NaN   5.0   \n",
       "2     Danny        Abbadi  The Assassin  71.0  155    --  Orthodox   4.0   \n",
       "3     David        Abbott          Tank  72.0  265    --    Switch  10.0   \n",
       "4    Shamil  Abdurakhimov         Abrek  75.0  235  76.0  Orthodox  19.0   \n",
       "5  Hiroyuki           Abe       Abe Ani  66.0  145    --  Orthodox   8.0   \n",
       "\n",
       "      L    D  Belt  \n",
       "1   3.0  0.0   NaN  \n",
       "2   6.0  0.0   NaN  \n",
       "3  14.0  0.0   NaN  \n",
       "4   4.0  0.0   NaN  \n",
       "5  14.0  3.0   NaN  "
      ]
     },
     "execution_count": 6,
     "metadata": {},
     "output_type": "execute_result"
    }
   ],
   "source": [
    "# Trim Whitespaces\n",
    "df_obj = df_r.select_dtypes(['object'])\n",
    "df_r[df_obj.columns] = df_obj.apply(lambda x: x.str.strip())\n",
    "\n",
    "# Create function to convert height into inches \n",
    "def convert_to_inches(height):\n",
    "    if( (height != \"NaN\") & (height != \"--\") ):\n",
    "        result = float(height.split(\"'\")[0]) * 12 + float(height.split(\"'\")[1].split('\"')[0])\n",
    "        return(result)\n",
    "    else:\n",
    "        return(None)\n",
    "\n",
    "# Convert height into float\n",
    "df_r['Ht.'] = df_r['Ht.'].apply(convert_to_inches)\n",
    "\n",
    "# Convert weight into float\n",
    "df_r['Wt.'] = df_r['Wt.'].apply(lambda x: x.split(\" \")[0])\n",
    "\n",
    "# Convert reach into float\n",
    "df_r['Reach'] = df_r['Reach'].apply(lambda x: x.split('\"')[0])\n",
    "\n",
    "df_r.head()"
   ]
  },
  {
   "cell_type": "markdown",
   "metadata": {},
   "source": [
    "## Exploratory Data Analysis"
   ]
  },
  {
   "cell_type": "code",
   "execution_count": 7,
   "metadata": {
    "ExecuteTime": {
     "end_time": "2019-01-14T23:00:24.277800Z",
     "start_time": "2019-01-14T23:00:21.986112Z"
    }
   },
   "outputs": [
    {
     "data": {
      "text/plain": [
       "array([[<matplotlib.axes._subplots.AxesSubplot object at 0x110e38b00>,\n",
       "        <matplotlib.axes._subplots.AxesSubplot object at 0x112f0c6a0>,\n",
       "        <matplotlib.axes._subplots.AxesSubplot object at 0x112f30d30>],\n",
       "       [<matplotlib.axes._subplots.AxesSubplot object at 0x112f5d400>,\n",
       "        <matplotlib.axes._subplots.AxesSubplot object at 0x112f81a90>,\n",
       "        <matplotlib.axes._subplots.AxesSubplot object at 0x112f81ac8>],\n",
       "       [<matplotlib.axes._subplots.AxesSubplot object at 0x112fd47f0>,\n",
       "        <matplotlib.axes._subplots.AxesSubplot object at 0x112ffbe80>,\n",
       "        <matplotlib.axes._subplots.AxesSubplot object at 0x11302b550>]],\n",
       "      dtype=object)"
      ]
     },
     "execution_count": 7,
     "metadata": {},
     "output_type": "execute_result"
    },
    {
     "data": {
      "image/png": "[encoded data removed]",
      "text/plain": [
       "<Figure size 864x576 with 9 Axes>"
      ]
     },
     "metadata": {},
     "output_type": "display_data"
    }
   ],
   "source": [
    "s_attr  = ['Ht.','Wt.','Reach','W','L']\n",
    "scatter_matrix(df_r[s_attr], figsize=(12,8))"
   ]
  },
  {
   "cell_type": "code",
   "execution_count": 8,
   "metadata": {
    "ExecuteTime": {
     "end_time": "2019-01-14T23:00:26.639687Z",
     "start_time": "2019-01-14T23:00:26.621955Z"
    }
   },
   "outputs": [
    {
     "data": {
      "text/html": [
       "<div>\n",
       "<style scoped>\n",
       "    .dataframe tbody tr th:only-of-type {\n",
       "        vertical-align: middle;\n",
       "    }\n",
       "\n",
       "    .dataframe tbody tr th {\n",
       "        vertical-align: top;\n",
       "    }\n",
       "\n",
       "    .dataframe thead th {\n",
       "        text-align: right;\n",
       "    }\n",
       "</style>\n",
       "<table border=\"1\" class=\"dataframe\">\n",
       "  <thead>\n",
       "    <tr style=\"text-align: right;\">\n",
       "      <th></th>\n",
       "      <th>First</th>\n",
       "      <th>Last</th>\n",
       "      <th>Nickname</th>\n",
       "      <th>Ht.</th>\n",
       "      <th>Wt.</th>\n",
       "      <th>Reach</th>\n",
       "      <th>Stance</th>\n",
       "      <th>W</th>\n",
       "      <th>L</th>\n",
       "      <th>D</th>\n",
       "      <th>Belt</th>\n",
       "    </tr>\n",
       "  </thead>\n",
       "  <tbody>\n",
       "    <tr>\n",
       "      <th>1</th>\n",
       "      <td>Tom</td>\n",
       "      <td>Aaron</td>\n",
       "      <td>NaN</td>\n",
       "      <td>NaN</td>\n",
       "      <td>155</td>\n",
       "      <td>--</td>\n",
       "      <td>NaN</td>\n",
       "      <td>5.0</td>\n",
       "      <td>3.0</td>\n",
       "      <td>0.0</td>\n",
       "      <td>NaN</td>\n",
       "    </tr>\n",
       "    <tr>\n",
       "      <th>2</th>\n",
       "      <td>Danny</td>\n",
       "      <td>Abbadi</td>\n",
       "      <td>The Assassin</td>\n",
       "      <td>71.0</td>\n",
       "      <td>155</td>\n",
       "      <td>--</td>\n",
       "      <td>Orthodox</td>\n",
       "      <td>4.0</td>\n",
       "      <td>6.0</td>\n",
       "      <td>0.0</td>\n",
       "      <td>NaN</td>\n",
       "    </tr>\n",
       "    <tr>\n",
       "      <th>3</th>\n",
       "      <td>David</td>\n",
       "      <td>Abbott</td>\n",
       "      <td>Tank</td>\n",
       "      <td>72.0</td>\n",
       "      <td>265</td>\n",
       "      <td>--</td>\n",
       "      <td>Switch</td>\n",
       "      <td>10.0</td>\n",
       "      <td>14.0</td>\n",
       "      <td>0.0</td>\n",
       "      <td>NaN</td>\n",
       "    </tr>\n",
       "    <tr>\n",
       "      <th>4</th>\n",
       "      <td>Shamil</td>\n",
       "      <td>Abdurakhimov</td>\n",
       "      <td>Abrek</td>\n",
       "      <td>75.0</td>\n",
       "      <td>235</td>\n",
       "      <td>76.0</td>\n",
       "      <td>Orthodox</td>\n",
       "      <td>19.0</td>\n",
       "      <td>4.0</td>\n",
       "      <td>0.0</td>\n",
       "      <td>NaN</td>\n",
       "    </tr>\n",
       "    <tr>\n",
       "      <th>5</th>\n",
       "      <td>Hiroyuki</td>\n",
       "      <td>Abe</td>\n",
       "      <td>Abe Ani</td>\n",
       "      <td>66.0</td>\n",
       "      <td>145</td>\n",
       "      <td>--</td>\n",
       "      <td>Orthodox</td>\n",
       "      <td>8.0</td>\n",
       "      <td>14.0</td>\n",
       "      <td>3.0</td>\n",
       "      <td>NaN</td>\n",
       "    </tr>\n",
       "  </tbody>\n",
       "</table>\n",
       "</div>"
      ],
      "text/plain": [
       "      First          Last      Nickname   Ht.  Wt. Reach    Stance     W  \\\n",
       "1       Tom         Aaron           NaN   NaN  155    --       NaN   5.0   \n",
       "2     Danny        Abbadi  The Assassin  71.0  155    --  Orthodox   4.0   \n",
       "3     David        Abbott          Tank  72.0  265    --    Switch  10.0   \n",
       "4    Shamil  Abdurakhimov         Abrek  75.0  235  76.0  Orthodox  19.0   \n",
       "5  Hiroyuki           Abe       Abe Ani  66.0  145    --  Orthodox   8.0   \n",
       "\n",
       "      L    D  Belt  \n",
       "1   3.0  0.0   NaN  \n",
       "2   6.0  0.0   NaN  \n",
       "3  14.0  0.0   NaN  \n",
       "4   4.0  0.0   NaN  \n",
       "5  14.0  3.0   NaN  "
      ]
     },
     "execution_count": 8,
     "metadata": {},
     "output_type": "execute_result"
    }
   ],
   "source": [
    "df_r.head()"
   ]
  },
  {
   "cell_type": "markdown",
   "metadata": {},
   "source": [
    "# __Scrape Historical Fight Data__"
   ]
  },
  {
   "cell_type": "markdown",
   "metadata": {},
   "source": [
    "## Soup Setup"
   ]
  },
  {
   "cell_type": "code",
   "execution_count": null,
   "metadata": {},
   "outputs": [],
   "source": [
    "h_url = \"http://www.fightmetric.com/statistics/events/completed?page=all\"\n",
    "page = requests.get(h_url)\n",
    "soup = BeautifulSoup(page.content, 'html.parser')"
   ]
  },
  {
   "cell_type": "markdown",
   "metadata": {},
   "source": [
    "## Get URLs for each fight event"
   ]
  },
  {
   "cell_type": "code",
   "execution_count": null,
   "metadata": {},
   "outputs": [],
   "source": [
    "for event in s_event_urls:\n",
    "    l_page = requests.get(event)\n",
    "    l_soup = BeautifulSoup(l_page.content, 'html.parser')\n",
    "    \n",
    "    l_soup.find\n",
    "    print(l_soup.title)"
   ]
  },
  {
   "cell_type": "code",
   "execution_count": null,
   "metadata": {},
   "outputs": [],
   "source": [
    "pd.read_table(\"http://www.fightmetric.com/fight-details/28c70663b99560a8\")"
   ]
  }
 ],
 "metadata": {
  "kernelspec": {
   "display_name": "Python [conda env:fight_prediction]",
   "language": "python",
   "name": "conda-env-fight_prediction-py"
  },
  "language_info": {
   "codemirror_mode": {
    "name": "ipython",
    "version": 3
   },
   "file_extension": ".py",
   "mimetype": "text/x-python",
   "name": "python",
   "nbconvert_exporter": "python",
   "pygments_lexer": "ipython3",
   "version": "3.6.6"
  },
  "varInspector": {
   "cols": {
    "lenName": 16,
    "lenType": 16,
    "lenVar": 40
   },
   "kernels_config": {
    "python": {
     "delete_cmd_postfix": "",
     "delete_cmd_prefix": "del ",
     "library": "var_list.py",
     "varRefreshCmd": "print(var_dic_list())"
    },
    "r": {
     "delete_cmd_postfix": ") ",
     "delete_cmd_prefix": "rm(",
     "library": "var_list.r",
     "varRefreshCmd": "cat(var_dic_list()) "
    }
   },
   "types_to_exclude": [
    "module",
    "function",
    "builtin_function_or_method",
    "instance",
    "_Feature"
   ],
   "window_display": false
  }
 },
 "nbformat": 4,
 "nbformat_minor": 2
}
